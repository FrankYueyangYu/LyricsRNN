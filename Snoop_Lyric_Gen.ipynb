{
 "cells": [
  {
   "cell_type": "code",
   "execution_count": 1,
   "metadata": {},
   "outputs": [],
   "source": [
    "import pandas as pd \n",
    "import numpy as np "
   ]
  },
  {
   "cell_type": "code",
   "execution_count": 2,
   "metadata": {},
   "outputs": [
    {
     "data": {
      "text/html": [
       "<div>\n",
       "<style scoped>\n",
       "    .dataframe tbody tr th:only-of-type {\n",
       "        vertical-align: middle;\n",
       "    }\n",
       "\n",
       "    .dataframe tbody tr th {\n",
       "        vertical-align: top;\n",
       "    }\n",
       "\n",
       "    .dataframe thead th {\n",
       "        text-align: right;\n",
       "    }\n",
       "</style>\n",
       "<table border=\"1\" class=\"dataframe\">\n",
       "  <thead>\n",
       "    <tr style=\"text-align: right;\">\n",
       "      <th></th>\n",
       "      <th>Title</th>\n",
       "      <th>URL</th>\n",
       "      <th>Lyrics</th>\n",
       "    </tr>\n",
       "  </thead>\n",
       "  <tbody>\n",
       "    <tr>\n",
       "      <th>0</th>\n",
       "      <td>Gin and Juice</td>\n",
       "      <td>https://genius.com/Snoop-dogg-gin-and-juice-ly...</td>\n",
       "      <td>Ha-ha-ha, I'm serious, nigga One of y'all nig...</td>\n",
       "    </tr>\n",
       "    <tr>\n",
       "      <th>1</th>\n",
       "      <td>Drop It Like It’s Hot</td>\n",
       "      <td>https://genius.com/Snoop-dogg-drop-it-like-its...</td>\n",
       "      <td>Snoop Snoop  When the pimp's in the crib, ma D...</td>\n",
       "    </tr>\n",
       "    <tr>\n",
       "      <th>2</th>\n",
       "      <td>Ain’t No Fun (If the Homies Can’t Have None)</td>\n",
       "      <td>https://genius.com/Snoop-dogg-aint-no-fun-if-t...</td>\n",
       "      <td>You're back now at the jack-off hour This is D...</td>\n",
       "    </tr>\n",
       "    <tr>\n",
       "      <th>3</th>\n",
       "      <td>Who Am I (What’s My Name)?</td>\n",
       "      <td>https://genius.com/Snoop-dogg-who-am-i-whats-m...</td>\n",
       "      <td>Eee-ya-ya-ya-ya-yah The Dogg Pound's in the ho...</td>\n",
       "    </tr>\n",
       "    <tr>\n",
       "      <th>4</th>\n",
       "      <td>Murder Was the Case (Death After Visualizing E...</td>\n",
       "      <td>https://genius.com/Snoop-dogg-murder-was-the-c...</td>\n",
       "      <td>Aye, aye,  JC 'Sup Enron Ain't that Snoop Dog...</td>\n",
       "    </tr>\n",
       "  </tbody>\n",
       "</table>\n",
       "</div>"
      ],
      "text/plain": [
       "                                               Title  \\\n",
       "0                                      Gin and Juice   \n",
       "1                              Drop It Like It’s Hot   \n",
       "2       Ain’t No Fun (If the Homies Can’t Have None)   \n",
       "3                         Who Am I (What’s My Name)?   \n",
       "4  Murder Was the Case (Death After Visualizing E...   \n",
       "\n",
       "                                                 URL  \\\n",
       "0  https://genius.com/Snoop-dogg-gin-and-juice-ly...   \n",
       "1  https://genius.com/Snoop-dogg-drop-it-like-its...   \n",
       "2  https://genius.com/Snoop-dogg-aint-no-fun-if-t...   \n",
       "3  https://genius.com/Snoop-dogg-who-am-i-whats-m...   \n",
       "4  https://genius.com/Snoop-dogg-murder-was-the-c...   \n",
       "\n",
       "                                              Lyrics  \n",
       "0   Ha-ha-ha, I'm serious, nigga One of y'all nig...  \n",
       "1  Snoop Snoop  When the pimp's in the crib, ma D...  \n",
       "2  You're back now at the jack-off hour This is D...  \n",
       "3  Eee-ya-ya-ya-ya-yah The Dogg Pound's in the ho...  \n",
       "4   Aye, aye,  JC 'Sup Enron Ain't that Snoop Dog...  "
      ]
     },
     "execution_count": 2,
     "metadata": {},
     "output_type": "execute_result"
    }
   ],
   "source": [
    "data = pd.read_csv(\"Snoop_Lyrics.csv\")\n",
    "# del data['Unnamed: 0']\n",
    "data.head()"
   ]
  },
  {
   "cell_type": "code",
   "execution_count": 3,
   "metadata": {},
   "outputs": [
    {
     "data": {
      "text/html": [
       "<div>\n",
       "<style scoped>\n",
       "    .dataframe tbody tr th:only-of-type {\n",
       "        vertical-align: middle;\n",
       "    }\n",
       "\n",
       "    .dataframe tbody tr th {\n",
       "        vertical-align: top;\n",
       "    }\n",
       "\n",
       "    .dataframe thead th {\n",
       "        text-align: right;\n",
       "    }\n",
       "</style>\n",
       "<table border=\"1\" class=\"dataframe\">\n",
       "  <thead>\n",
       "    <tr style=\"text-align: right;\">\n",
       "      <th></th>\n",
       "      <th>Title</th>\n",
       "      <th>URL</th>\n",
       "      <th>Lyrics</th>\n",
       "      <th>t-lyric</th>\n",
       "    </tr>\n",
       "  </thead>\n",
       "  <tbody>\n",
       "    <tr>\n",
       "      <th>0</th>\n",
       "      <td>Gin and Juice</td>\n",
       "      <td>https://genius.com/Snoop-dogg-gin-and-juice-ly...</td>\n",
       "      <td>Ha-ha-ha, I'm serious, nigga One of y'all nig...</td>\n",
       "      <td>gin and juice @@@  ha-ha-ha, i'm serious, nigg...</td>\n",
       "    </tr>\n",
       "    <tr>\n",
       "      <th>1</th>\n",
       "      <td>Drop It Like It’s Hot</td>\n",
       "      <td>https://genius.com/Snoop-dogg-drop-it-like-its...</td>\n",
       "      <td>Snoop Snoop  When the pimp's in the crib, ma D...</td>\n",
       "      <td>drop it like it’s hot @@@ snoop snoop  when th...</td>\n",
       "    </tr>\n",
       "    <tr>\n",
       "      <th>2</th>\n",
       "      <td>Ain’t No Fun (If the Homies Can’t Have None)</td>\n",
       "      <td>https://genius.com/Snoop-dogg-aint-no-fun-if-t...</td>\n",
       "      <td>You're back now at the jack-off hour This is D...</td>\n",
       "      <td>ain’t no fun (if the homies can’t have none) @...</td>\n",
       "    </tr>\n",
       "    <tr>\n",
       "      <th>3</th>\n",
       "      <td>Who Am I (What’s My Name)?</td>\n",
       "      <td>https://genius.com/Snoop-dogg-who-am-i-whats-m...</td>\n",
       "      <td>Eee-ya-ya-ya-ya-yah The Dogg Pound's in the ho...</td>\n",
       "      <td>who am i (what’s my name)? @@@ eee-ya-ya-ya-ya...</td>\n",
       "    </tr>\n",
       "    <tr>\n",
       "      <th>4</th>\n",
       "      <td>Murder Was the Case (Death After Visualizing E...</td>\n",
       "      <td>https://genius.com/Snoop-dogg-murder-was-the-c...</td>\n",
       "      <td>Aye, aye,  JC 'Sup Enron Ain't that Snoop Dog...</td>\n",
       "      <td>murder was the case (death after visualizing e...</td>\n",
       "    </tr>\n",
       "  </tbody>\n",
       "</table>\n",
       "</div>"
      ],
      "text/plain": [
       "                                               Title  \\\n",
       "0                                      Gin and Juice   \n",
       "1                              Drop It Like It’s Hot   \n",
       "2       Ain’t No Fun (If the Homies Can’t Have None)   \n",
       "3                         Who Am I (What’s My Name)?   \n",
       "4  Murder Was the Case (Death After Visualizing E...   \n",
       "\n",
       "                                                 URL  \\\n",
       "0  https://genius.com/Snoop-dogg-gin-and-juice-ly...   \n",
       "1  https://genius.com/Snoop-dogg-drop-it-like-its...   \n",
       "2  https://genius.com/Snoop-dogg-aint-no-fun-if-t...   \n",
       "3  https://genius.com/Snoop-dogg-who-am-i-whats-m...   \n",
       "4  https://genius.com/Snoop-dogg-murder-was-the-c...   \n",
       "\n",
       "                                              Lyrics  \\\n",
       "0   Ha-ha-ha, I'm serious, nigga One of y'all nig...   \n",
       "1  Snoop Snoop  When the pimp's in the crib, ma D...   \n",
       "2  You're back now at the jack-off hour This is D...   \n",
       "3  Eee-ya-ya-ya-ya-yah The Dogg Pound's in the ho...   \n",
       "4   Aye, aye,  JC 'Sup Enron Ain't that Snoop Dog...   \n",
       "\n",
       "                                             t-lyric  \n",
       "0  gin and juice @@@  ha-ha-ha, i'm serious, nigg...  \n",
       "1  drop it like it’s hot @@@ snoop snoop  when th...  \n",
       "2  ain’t no fun (if the homies can’t have none) @...  \n",
       "3  who am i (what’s my name)? @@@ eee-ya-ya-ya-ya...  \n",
       "4  murder was the case (death after visualizing e...  "
      ]
     },
     "execution_count": 3,
     "metadata": {},
     "output_type": "execute_result"
    }
   ],
   "source": [
    "data['t-lyric'] = data['Title'] + \" @@@ \" + data['Lyrics']\n",
    "data['t-lyric'] = data['t-lyric'].str.lower()\n",
    "data.head()"
   ]
  },
  {
   "cell_type": "code",
   "execution_count": 4,
   "metadata": {},
   "outputs": [],
   "source": [
    "stopChars = [',','(',')','.','-','[',']','\"']\n",
    "# preprocessing the corpus by converting all letters to lowercase, \n",
    "# replacing blank lines with blank string and removing special characters\n",
    "def preprocessText(text):\n",
    "#     text = text.replace('\\n', ' ').replace('\\t','')\n",
    "    processedText = text.lower()\n",
    "    for char in stopChars:\n",
    "        processedText = processedText.replace(char,'')\n",
    "    return processedText\n",
    "data['t-lyric'] = data['t-lyric'].astype(str)\n",
    "data['t-lyric'] = data['t-lyric'].apply(preprocessText)"
   ]
  },
  {
   "cell_type": "code",
   "execution_count": 5,
   "metadata": {},
   "outputs": [
    {
     "data": {
      "text/plain": [
       "(99, 4)"
      ]
     },
     "execution_count": 5,
     "metadata": {},
     "output_type": "execute_result"
    }
   ],
   "source": [
    "data.shape"
   ]
  },
  {
   "cell_type": "code",
   "execution_count": 6,
   "metadata": {},
   "outputs": [
    {
     "data": {
      "text/plain": [
       "<map at 0x264e0364e50>"
      ]
     },
     "execution_count": 6,
     "metadata": {},
     "output_type": "execute_result"
    }
   ],
   "source": [
    "# trim each word for leading or trailing spaces / tabs.\n",
    "map(str.strip, data['t-lyric']) # trim words"
   ]
  },
  {
   "cell_type": "code",
   "execution_count": 7,
   "metadata": {},
   "outputs": [
    {
     "data": {
      "text/html": [
       "<div>\n",
       "<style scoped>\n",
       "    .dataframe tbody tr th:only-of-type {\n",
       "        vertical-align: middle;\n",
       "    }\n",
       "\n",
       "    .dataframe tbody tr th {\n",
       "        vertical-align: top;\n",
       "    }\n",
       "\n",
       "    .dataframe thead th {\n",
       "        text-align: right;\n",
       "    }\n",
       "</style>\n",
       "<table border=\"1\" class=\"dataframe\">\n",
       "  <thead>\n",
       "    <tr style=\"text-align: right;\">\n",
       "      <th></th>\n",
       "      <th>Title</th>\n",
       "      <th>URL</th>\n",
       "      <th>Lyrics</th>\n",
       "      <th>t-lyric</th>\n",
       "    </tr>\n",
       "  </thead>\n",
       "  <tbody>\n",
       "    <tr>\n",
       "      <th>0</th>\n",
       "      <td>Gin and Juice</td>\n",
       "      <td>https://genius.com/Snoop-dogg-gin-and-juice-ly...</td>\n",
       "      <td>Ha-ha-ha, I'm serious, nigga One of y'all nig...</td>\n",
       "      <td>gin and juice @@@  hahaha i'm serious nigga on...</td>\n",
       "    </tr>\n",
       "    <tr>\n",
       "      <th>1</th>\n",
       "      <td>Drop It Like It’s Hot</td>\n",
       "      <td>https://genius.com/Snoop-dogg-drop-it-like-its...</td>\n",
       "      <td>Snoop Snoop  When the pimp's in the crib, ma D...</td>\n",
       "      <td>drop it like it’s hot @@@ snoop snoop  when th...</td>\n",
       "    </tr>\n",
       "    <tr>\n",
       "      <th>2</th>\n",
       "      <td>Ain’t No Fun (If the Homies Can’t Have None)</td>\n",
       "      <td>https://genius.com/Snoop-dogg-aint-no-fun-if-t...</td>\n",
       "      <td>You're back now at the jack-off hour This is D...</td>\n",
       "      <td>ain’t no fun if the homies can’t have none @@@...</td>\n",
       "    </tr>\n",
       "    <tr>\n",
       "      <th>3</th>\n",
       "      <td>Who Am I (What’s My Name)?</td>\n",
       "      <td>https://genius.com/Snoop-dogg-who-am-i-whats-m...</td>\n",
       "      <td>Eee-ya-ya-ya-ya-yah The Dogg Pound's in the ho...</td>\n",
       "      <td>who am i what’s my name? @@@ eeeyayayayayah th...</td>\n",
       "    </tr>\n",
       "    <tr>\n",
       "      <th>4</th>\n",
       "      <td>Murder Was the Case (Death After Visualizing E...</td>\n",
       "      <td>https://genius.com/Snoop-dogg-murder-was-the-c...</td>\n",
       "      <td>Aye, aye,  JC 'Sup Enron Ain't that Snoop Dog...</td>\n",
       "      <td>murder was the case death after visualizing et...</td>\n",
       "    </tr>\n",
       "  </tbody>\n",
       "</table>\n",
       "</div>"
      ],
      "text/plain": [
       "                                               Title  \\\n",
       "0                                      Gin and Juice   \n",
       "1                              Drop It Like It’s Hot   \n",
       "2       Ain’t No Fun (If the Homies Can’t Have None)   \n",
       "3                         Who Am I (What’s My Name)?   \n",
       "4  Murder Was the Case (Death After Visualizing E...   \n",
       "\n",
       "                                                 URL  \\\n",
       "0  https://genius.com/Snoop-dogg-gin-and-juice-ly...   \n",
       "1  https://genius.com/Snoop-dogg-drop-it-like-its...   \n",
       "2  https://genius.com/Snoop-dogg-aint-no-fun-if-t...   \n",
       "3  https://genius.com/Snoop-dogg-who-am-i-whats-m...   \n",
       "4  https://genius.com/Snoop-dogg-murder-was-the-c...   \n",
       "\n",
       "                                              Lyrics  \\\n",
       "0   Ha-ha-ha, I'm serious, nigga One of y'all nig...   \n",
       "1  Snoop Snoop  When the pimp's in the crib, ma D...   \n",
       "2  You're back now at the jack-off hour This is D...   \n",
       "3  Eee-ya-ya-ya-ya-yah The Dogg Pound's in the ho...   \n",
       "4   Aye, aye,  JC 'Sup Enron Ain't that Snoop Dog...   \n",
       "\n",
       "                                             t-lyric  \n",
       "0  gin and juice @@@  hahaha i'm serious nigga on...  \n",
       "1  drop it like it’s hot @@@ snoop snoop  when th...  \n",
       "2  ain’t no fun if the homies can’t have none @@@...  \n",
       "3  who am i what’s my name? @@@ eeeyayayayayah th...  \n",
       "4  murder was the case death after visualizing et...  "
      ]
     },
     "execution_count": 7,
     "metadata": {},
     "output_type": "execute_result"
    }
   ],
   "source": [
    "data.head()"
   ]
  },
  {
   "cell_type": "code",
   "execution_count": 8,
   "metadata": {},
   "outputs": [
    {
     "name": "stdout",
     "output_type": "stream",
     "text": [
      "corpus length: 55285\n"
     ]
    }
   ],
   "source": [
    "import re\n",
    "newlines = re.sub(\"\\n\", \" \\n \", data['Lyrics'].str.cat(sep='\\n').lower())\n",
    "exclamation = re.sub(\"!\", \" ! \", newlines)\n",
    "question = re.sub(\"!\", \" ! \", exclamation)\n",
    "DP_text = re.findall(r'\\S+|\\n', question)\n",
    "print('corpus length:', len(DP_text))"
   ]
  },
  {
   "cell_type": "code",
   "execution_count": 9,
   "metadata": {},
   "outputs": [
    {
     "name": "stdout",
     "output_type": "stream",
     "text": [
      "total words: 6823\n",
      "['\\n', '!', '\"', '\"1-8-7', '\"a', '\"ahhh\"', '\"beast', '\"big', '\"biggie\"', '\"bitch,', '\"break', '\"c\\'mere,', '\"cheer', '\"chef\"', '\"contagious\",', '\"d\"', '\"deep', '\"doggy', '\"doug', '\"ez', '\"forte\",', '\"fuck', '\"get', '\"ghostface\"', '\"gin', '\"heavy\"', '\"hi', '\"hook', '\"how', '\"i', '\"i-i-i\"', '\"if', '\"in', '\"it\\'s', '\"jesus', '\"kane\"', '\"khalifa', '\"kurupt\"', '\"let\\'s', '\"lil\\'', '\"make', '\"mastered\"', '\"my', '\"nigga\"', '\"nigga,', '\"no', '\"oh', '\"one', '\"p\"', '\"pull', '\"r\"', '\"rob', '\"snoop', '\"snoop\"', '\"snoopy,', '\"sometimes', '\"soulja\"', '\"stop', '\"supercrip', '\"superman\",', '\"tha', '\"that\\'s', '\"true', '\"two,', '\"um,', '\"vamanos\"', '\"what', '\"what\\'s', '\"whatchu', '\"who', '\"why', '\"x\"-ed', '\"yeah', '\"yo', '\"you', '$2000,', '&', \"'6-4\", \"'6-trey,\", \"'61\", \"'64\", \"'64,\", \"'64—red,\", \"'76\", \"'80s\", \"'83\", \"'84\", \"'85\", \"'93\", \"'bout\", \"'bout?\", \"'caine\", \"'cause\", \"'cause,\", \"'cross\", \"'cuz\", \"'dro\", \"'em\", \"'em,\", \"'em;\", \"'em?\", \"'er\", \"'fore\", \"'fuck\", \"'gram\", \"'intendo\", \"'jects\", \"'lac\", \"'less\", \"'lil\", \"'llaaaaaaac\", \"'llac\", \"'llacs,\", \"'nolia\", \"'nough\", \"'o\", \"'ol\", \"'pac\", '\\'pac\"', \"'pagne\", \"'pop'\", \"'posed\", \"'round\", \"'shaw\", \"'specially\", \"'sup\", \"'til\", \"'till\", \"'way\", \"'way,\", '(bow', ')', '*?teatley?*', '*d-o-c*', '*echoes*', '*gunshots*', '*static*', '+soulja+', ',', '-', '--', '-real', '..', '...', \"...an'thing\", '...dream', '...the', '...this', '.38', '.45', '0', '1', '1-8-7', '1-8-7,', '1-9-9-tre', '1.', '10', '10,', '10.', '100,000', '11,', '110', '12,', '12:01', '12:30', '12th', '13?', '14', '15', \"16's\", '17', '175', '18', '187', '187.4', '19,', '1996,', '19th', '2', '2,', '2-0-6', '2-1', '2-1-3', '2.', '2.0,', '20', \"20'\", '200', '21', '211', '213,', '21st', '21st,', \"22's\", '25', '254', '2pac', '2x', '3', \"3's\", '3,', '3-1-2', '3.', '30', '310-d.a.p.o.u.n.d', '310-p.o.u.n.d.', '35,000', '36', '380', '4', '4,', '4.', '4/2', '4/20', '40', '40/45', '44', '45', '45,', '48', '4800', '4:20', '5', '5,', '5.', '50', \"501's\", \"501s'\", '5:30', '6', '6,', \"6-0's,\", '6.', '60s.', '64s,', '7', '7,', '7-8', '7-up,', '7.', '8,', '8.', '80', '808,', '80s', '82', '8th', '9', '9,', '9.', '90', '90s', '94,', ':', '=and', 'a', 'a-ha-ha', 'a-hah,', 'a-humph..', 'a...', 'a.k.a', 'a.m.,', 'aaron', 'able', 'able,', 'aboard', 'about', 'about?', 'above', 'absorb', 'abuse', 'accept', 'accord,', 'account', 'ace', 'ache,', 'aches,', \"achievin',\", 'acquitted', 'acres,', 'across', 'act', 'actin', \"actin'\", 'acting', 'action', 'actions', 'adams,', 'add', 'addicted', 'addition,', 'address', 'adds', 'adidas,', 'adjust', 'admitting', 'adore', 'advise', 'affair', 'affected', 'affection', 'afraid', 'afro', 'after', 'again', 'again,', 'against', 'age', 'agendas', 'ago', 'agree', 'agreed', 'ah', 'ah,', 'ahead', 'ahh', 'ahhhh,', 'ahizzead', 'ahora', 'ahí', 'aight', 'aight,', 'aim', \"ain't\", \"ain't,\", 'ain’t', 'air', 'air,', 'aiy,', 'aiyo', 'aiyyo', 'aiyyo,', 'ak', 'ak-47', 'aka', 'aks', 'al', 'al-always,', 'al-ways', 'album', 'albums', 'alert', 'alice', 'alike', 'alive', 'alive,', 'alize,', 'all', 'all,', 'all-blue', 'all-pro', 'all:', 'all?\"', 'allah,', 'alley', 'allowed', 'almighty', 'almond', 'almost', 'alone', 'alone,', 'along', 'along,', 'alotta', 'alphonse', 'already', 'alright', 'alright,', 'alright?', 'also', 'always', 'always,', 'am', 'am,', 'amazed', 'amazement', 'amazing', 'america', \"america's\", 'american', 'ammo', 'amount', 'amounts', 'an', \"an'\", 'ana,', 'and', 'and,', 'andre', 'angel,', 'angeles', 'anger', 'annie', 'annihilate', 'annual', 'another', 'answer', 'anticipation', 'ants', 'anus', 'any', 'any-fucking-time,', 'any-fucking-where', 'anybody', 'anyone', 'anything', 'anytime', 'anyway', 'apocalypse', 'apologize', 'app', 'appeal,', 'apple-bottom', 'appreciate', 'approach', 'approach.', 'approachable,', 'approached', 'approaching', 'archbishop', 'are', 'are\"', 'are,', 'are.', 'arena', \"arguin'\", 'arm', 'arm,', 'arms', 'army', 'aroma,', 'aromatic,', 'around', 'around,', 'arrived', 'arrow', 'artists,', 'as', 'asap', 'ashamed', 'ashtray', 'ask', 'ask,', 'asked', \"askin'\", 'asking', 'ass', \"ass'll\", 'ass,', 'assassin', 'at', 'at.', 'at?', 'ate', 'attendant', 'attention', 'attention?', 'attitude', 'audacity', 'authentic,', 'author,', 'autographs', 'automatically', 'ave', 'avenue', 'average', 'avión', 'aw', 'awake', 'away', 'away,', 'awfully', 'aww', 'axe', 'axis', 'ay', 'ay,', 'aye', 'aye,', 'ayo', 'ayo,', 'ayy', 'año', 'a—', 'b', \"b's\", 'b-cat', 'b-dogg,', 'b-dogs', 'b-real', 'b-real,', 'b.g', 'ba-ba-ba-bam', 'ba-ba-bang', 'ba-da-bam', 'babe', 'baby', \"baby's\", 'baby,', 'baby?', 'babyface', 'bachelor,', 'back', 'back,', 'back?', 'backboard', 'background', \"backin'\", 'backpack', 'backs', 'backs.', 'backside', 'backslide', 'backstreets', 'backwoods', 'backyard', 'bacon', 'bad', 'bad,', 'badabang', 'baddest', 'baddest,', 'bae', 'bafoon', 'bag', 'bag,', 'baguettes', 'bail', 'bailin', \"bailin',\", 'bails,', 'bain', 'bajé', 'bake', 'baked', 'balenciaga,', 'ball', 'ball,', 'balla', 'baller', 'baller,', 'ballers', \"ballin'\", \"ballin',\", 'balling', 'ballin’,', 'balloons,', 'balls', 'balls,', 'ballz', 'bam', 'bandana', 'bandana?', 'bandit', 'bands', 'bang', 'bang,', \"bang-bangin'\", 'banged', 'banger,', 'bangers', 'bangin', \"bangin'\", \"bangin'?\", 'banging', 'bank', 'bank,', 'banks', 'bar', 'bar,', 'barrio,', 'barry', 'base', 'base\",', 'baseball\"', 'basie', 'baskets,', 'bass', 'bastard', 'bat', 'batboy', 'bath', 'bathroom', 'batmanin’', 'battle', 'battlecat,', 'battled', 'bbc,', 'bbd?', 'be', 'be,', 'be-', 'be...', 'be?', 'beach', 'beach,', 'beam', 'beams', 'beans', 'beast', 'beat', 'beat,', \"beatin'\", 'beats', 'beats,', 'beautiful', 'beautiful,', 'beaver,', 'became', 'because', 'become', 'becomes', 'bed', 'beddy-bye', 'bedroom', 'bee', 'bee-itch,', 'beef', 'beefing', 'been', 'beeotch', 'beep', 'beep,', 'beeswax', 'beeyatch', 'beez', \"befo'\", 'before', 'beg', 'began', 'begin', 'begining', \"beginnin'\", 'beginning', 'begun', 'behalf', 'behavior', 'behind', 'behizzind', \"bein'\", 'being', 'belaire', 'believe', \"believin'\", 'believing', 'bell', 'belly', 'belong', 'bend', \"bendin'\", 'benediction,', 'beneficent,', 'bent', 'benz', 'benz,', 'bernard', 'beside', 'best', 'best,', 'bet', \"bet'\", 'bet,', 'betta', 'better', 'betty', 'between', 'beverly', 'beware', 'beyonce', 'beyotch', 'beyotch,', 'beyotches', 'be–', 'bf', 'bffs', 'biatch', 'biatch,', 'bid', 'bidness', 'bien', 'big', 'big-ass', 'bigg', 'bigga', 'bigger', 'biggest', 'biggidy', 'biggie', 'bike,', 'bikes', 'bill', 'bills', 'bimbo', 'bionic', 'bird,', 'birdie', 'birds', 'birds,', 'birthday', 'biscuit', 'biscuits', 'bisquick', 'bit', 'bitch', 'bitch,', 'bitch.', 'bitches', 'bitches,', 'bitches.', 'bitchin', 'bitch…', 'bite', 'bite,', \"bitin',\", 'biting', 'bitty', 'biz', 'biz-oss', 'bizarre', 'bizzack', 'bizzack—now,', 'bizzle,', 'bizzow', 'black', 'black,', 'blackballed,', 'blam', 'blam,', 'blame', 'blasphemy,', 'blast', 'blaze', 'blazed', 'blazed,', \"blazin'\", 'blazing', 'bleed', 'bleed\"', 'bleed,', \"bleedin'\", 'bleeding', 'bless', 'blessed', 'blessings,', 'blew', 'blind', 'blinded', 'blink', 'blinking', 'blocc', 'block', 'block,', \"blockin'\", 'blocks', 'blogs', 'blood', 'blood\",', 'blood,', 'bloodclots', \"bloodin'\", 'bloods', 'bloods.', 'bloody', 'blooooooown', 'blow', 'blow,', 'blowed,', 'blowin', \"blowin'\", 'blowing', 'blowing,', 'blown', 'blown,', 'blue', 'blue,', 'bluenotes', 'bluenotes;', 'blues', 'blues,', 'blunt', 'blunt,', 'blunts', 'blunts,', 'bo', 'bo,', 'board,', 'boat', 'boat,', \"bobbin'\", 'bodies', 'body', \"body's\", 'body,', 'boggled', 'boils', 'bom-bom', 'bomb', 'bomb-ity', 'bomber', 'bombest', \"bombin'\", 'bombs', 'bonds,', 'bone', 'bone,', 'bong', 'boo', \"boo's\", 'boo,', 'boo-lay', 'boo?', 'boogers', 'book', 'books', 'books,', 'boom', 'boom,', \"boomin'\", \"boomin',\", 'boone', 'boot', 'bootleg', 'booty', 'booty,', 'booty?', 'bootylicious', 'booyaka', 'booyaka,', 'born', 'boss', \"boss'\", 'boss,', 'bossalinie', 'bossed', 'both', 'bother', 'bottle', 'bottled', 'bottles', 'bottom', 'bought', 'boulevard', 'bounce', 'bounce,', 'bouncin', \"bouncin'\", 'bouncing', 'bound', 'bounds', 'bout', 'bouta', 'bow', 'bow-wow-wow', 'box', 'box,', 'boxer...', 'boxes', \"boxin'\", 'boxing', 'boy', \"boy's\", 'boy,', 'boy?', 'boys', 'boys,', 'boyz,', 'bracelets', 'brag', 'brag?', 'braids', 'braids,', 'brain', 'brain,', 'brainless', 'brainless,', 'brainwashed', 'brake,', 'brakes,', 'branch', 'brand', 'brand,', 'brandi', 'brang', 'brave', 'brawl,', 'bread', \"bread's\", 'break', 'break?', 'breakdown', 'breakin', \"breakin'\", 'breaking', 'breaks', 'breath', 'breathe,', 'breathin', 'breathin,', 'breathing', 'breathing,', 'breeze', 'breeze,', 'breezy,', 'brick', 'bright', 'brim', 'brimmed', 'bring', \"bringin'\", 'bringing', 'brizzles', 'bro', 'bro.', 'broad,', 'broads', 'broads,', 'broadus', 'broke', 'broke,', 'broken', 'brooklyn', 'bros', 'brother', 'brotherhood,', 'brothers', 'brougham', 'brought', 'brown', 'brown-nosing', 'brownie', 'bruised', 'brutal,', 'bs', 'bubba', 'bubble', 'bubblegum', 'bubbles', \"bubblin'\", 'bubonic', 'buck', 'bucket', 'bucks', 'bucks,', 'buckwort', 'bud', 'bud,', 'buddy', 'bueno,', 'build', 'buildin,', 'building', 'building,', 'buildings', 'built', 'bullet,', 'bulletproof', 'bullets', 'bulls', 'bullshit', 'bullshit,', 'bullshittin', \"bullshittin'\", \"bullshittin',\", 'bump', 'bump,', 'bumped', \"bumpin'\", 'bums', 'bunch', 'burden', 'burger', 'burials', 'buried', 'buries', 'burn', 'burner', 'burner,', 'burnin', 'burning', 'burning,', 'burnt', 'burnt,', 'burst', 'burt', 'bury', 'bus', 'buscando', 'bush', 'bush,', 'bush69', 'bush69,', 'bushes', 'business', 'business,', 'bust', 'bust,', 'busta', 'busta-ass', 'busta-bust', 'buster,', 'busters', 'bustin', \"bustin'\", 'busting', 'busy', 'busy,', 'but', 'but,', 'butch', 'butt', 'butt,', 'butter', 'button,', 'buy', 'buy,', 'buying', 'buz', 'buzzed', 'bwoy', 'by', 'by,', 'bye,', 'bygones', 'bystanders', 'c', \"c'mon\", \"c's\", \"c's,\", 'c-murder', 'c-p-3,', 'c-r-i-p', 'c-r-i-p,', 'c-walk', 'c-walked', \"c-walkin',\", 'c.b', 'c.b.,', 'ca-rip', 'ca-rip,', 'cabbage', 'cabbage,', 'cabinet', 'caddy', 'cadi', 'cadillac', 'cadillac,', 'cadillac?', 'cake', 'cakes', 'cal', 'cali', \"cali's\", 'california', 'california?', 'californicated', 'calio', 'call', 'called', 'caller', 'caller?', 'callin', \"callin'\", 'calling', 'calm', 'calvin', 'camaro', 'came', 'came..', 'cameras', 'camp', 'campanella', 'can', \"can't\", 'can,', 'candle,', 'candy', 'candy,', 'cane', 'cannabis', 'canyon', 'can’t', 'cap', 'capital', 'capone', 'capped', 'cappin', 'captain', 'captivating', 'car', 'car,', 'caramel', 'card', 'card\"', 'card,', 'care', 'careful', 'carefully,', 'caring', 'carolina', 'carpet', 'carpet,', 'carried', 'carrying', 'cars', 'cars,', 'cartier', 'cartigan', 'carton', 'casa', 'casa,', 'case', 'case,', 'cases,', 'cash', 'cash,', 'caskets', 'cassidy', 'casual', 'casualties', 'cat', 'cat,', 'catamaran', 'cataract', 'cataracts', 'catastrophes', 'catch', \"catchin'\", 'catching', 'catchy', 'caught', 'caught,', 'cause', 'causing', 'cavi', 'caviar', 'cavy', 'cee', \"ceilin'\", 'ceiling,', 'celebrate', \"celebratin',\", 'celebrating,', 'cellar', 'cement', 'cent', 'cent;', 'center', 'central', 'ceo', 'cerritos', 'cerritos,', 'certain', 'cest', 'chain', 'chain,', 'chair', 'chair?', 'chairman', 'chakra', 'chalked', 'challenge', 'champagne', 'champagne,', 'chance', 'chance,', 'chandon', 'change', 'change,', 'changed', 'changing', 'channels', 'charge', 'charged', 'charles', 'charts', 'chase', 'chase,', 'chat', 'chateau,', 'chauffeur', 'cheat', 'check', 'check,', 'checked', 'checkin', \"checkin'\", 'checking', 'checking,', 'checks', 'cheddar', 'cheech', 'cheer', 'cheerios', 'cheese', 'cheese\"', 'chequeando', 'cherry', 'chest', 'chestnuts', 'chevrolet', \"chevrolets'\", 'chevy', 'chevy,', 'chewed', 'chi', 'chi-town', 'chicago', 'chicago,', 'chick', 'chicken', 'chicken,', 'chickens', 'chicks', 'chicky-check-check-it', 'chief', 'chiefing', \"chil'ren\", 'child', 'children', 'chill', 'chill,', \"chillin'\", \"chillin',\", 'chillin,', 'chilling', 'chilly', 'chimney', 'chin,', 'china', 'chinchilla', 'chino,', 'chip', 'chipped', 'chips', 'chips,', 'chiquitas', 'chirp', 'chit-chat', 'chizzle', 'chocolate', 'choke;', 'chong', 'chong,', 'chonies', 'choose', \"choosin'\", 'chop', 'chopping', 'chose', 'chow,', 'christmas', 'christmas,', 'chrome', 'chrome,', 'chronic', 'chronic,', 'chronicles', \"chuck'n\", \"chuck's\", \"chuck's,\", 'chucks', 'chucks,', 'chucks?', 'chump', 'chunk,', 'chunky', 'church', 'church,', 'churches,', 'chuuuch,', 'cigar,', 'cigarette', 'cigarette,', 'cinnamon', 'circle', 'circumstance', 'citch', 'city', 'city,', 'ciz-allll', 'ciz-alllll', 'claats', 'clack', 'claim', 'claiming', 'clampett', 'clap?', 'clarissa', 'class', 'class,', 'classic', 'classic,', 'classics', 'claus', 'claus?', 'clean', 'clean,', 'clear', 'clearer', 'cleats', 'clever', 'click', 'click-clack,', \"climbin'\", 'clinton', 'clip', 'clippers', 'clique', 'clique,', 'clique?', 'clock', 'clockin', \"clockin'\", 'clocking', 'close', 'close,', 'closed', 'closed,', 'closely', 'clothes', 'clothes,', 'clothing,', 'cloud', 'clouds', 'clouds,', 'cloudy', 'clout', 'clown', 'clowned', 'club', 'club,', 'clubs,', 'cluckers', 'clue', 'clueless', 'clutch,', 'co-macked', 'coach', 'coast', 'coast,', 'coast-to-coast,', \"coastin'\", 'coasting', 'coat', 'coat,', 'coattail', 'cocaine', 'cock', 'cocked', 'cocked,', 'cocket', \"cockin'\", 'cocoa', 'code', 'codeine', 'coffee,', 'cognac', 'coke', 'cold', 'cold,', 'colder', 'coldest', 'coldest,', 'coldhearted', 'colin', 'collar', 'collar,', 'collard', 'collars,', 'college', 'collision', 'cologne', 'color', \"color's\", 'colorblind', 'colors', 'colt', 'coma', 'combo', 'come', 'come,', 'comes', 'comfort', 'comin', \"comin'\", 'coming', 'coming,', 'commas', 'committed', 'company', 'company,', 'compare', 'compete', 'competition', 'competition,', 'compilation', 'complain', 'complaining', 'complete', 'completely', 'complicated', 'composition', 'composure', 'comprehension', 'compton', 'compton,', 'con', 'conceited', 'concentrate', 'concentration', 'concern', 'concerned', 'concrete', 'condition', 'cone', 'cones', 'confess', 'confession', 'conflict', \"confusin',\", 'coning', 'connect', 'connected', 'connection', 'connects', 'consecutive', 'constantly', 'consume,', 'continental', 'continental,', 'contraceptive', 'control', 'controlled', 'conversating', 'conversations', 'conyo', 'coo-coo', 'cookie', 'cookin', 'cool', 'cool\"', 'cool,', 'coolaid', 'coolaid?', 'coolest', 'coolio', 'cop', 'cop\"', 'cop,', 'coppin', 'cops', 'corleone,', \"corna'\", 'corner', 'corner,', 'corners', 'corners,', 'cornrows', 'coronas', 'cos', 'cost', 'costo', 'cot', 'cot,', 'cotez', 'cotton', 'couch', 'could', 'could,', 'coulda', \"couldn't\", 'coulevard', 'count', 'count,', 'countdown', 'countdown,', \"countin'\", 'counting', 'county', 'county,', 'coupe', 'coupe,', 'couple', 'coupon', 'courdoroy', 'cousin', 'cousin..', 'cover', 'cover\"', 'covered', \"coverin'\", 'coward', 'cowards,', 'cowgirl', 'cozy', 'cpt', 'craaa-', 'craaa-crazy', 'craaaa-crazy', 'crack', 'cracked', \"crackin'\", \"crackin',\", 'cracks', 'cragars', 'crappy', 'crawlin', \"crawlin'\", 'cray-cray', 'crazy', 'crazy,', 'crazy?', 'cream', 'creams?', 'creased', 'create,', 'creator,', 'creep', 'creepin', \"creepin'\", 'creeping', 'crenshaw', 'crest', 'crew', 'crew,', 'crew?', 'crews', 'crib', 'crib,', 'cribs', 'cries', 'crime', 'criminal', 'crip', 'crip,', \"crip-a-lat'n,\", \"crippin'\", \"crippin',\", 'cripping', 'crips', 'crips,', 'critics', 'croaker', 'crooked', 'cross', 'crossed', 'crowd', 'crucial', 'cruel', 'cruise,', \"cruisin'\", 'crumbs', 'crush,', 'cry,', \"cryin'\", \"cryin',\", 'crying', 'cryptolite', 'cuban', 'cubans', 'cubes?', 'cucks,', 'cudi,', 'cue', 'cuenta', \"cuente'\", 'cuff', 'cuffs', 'cufi', 'cuh,', 'cuh/cuzz', 'culkin,', 'cultivating', 'cum', 'cum,', 'cup', 'cup,', 'cupid', 'cups,', 'curb', 'curly', 'curtains', 'curves', 'cush', 'cush,', 'cuss,', 'cut', 'cut,', 'cute', 'cutie,', 'cutlass', 'cuts', 'cutthroats', 'cutty', 'cuz', 'cuz,', 'cuz?', 'cuzz', 'cuzz,', 'cycle,', 'cypress', 'd', \"d's\", 'd,', 'd-a-t', 'd-a-z', 'd-e-v,', 'd-i', 'd-i-e', 'd-lo,', 'd-o', 'd-o-double', 'd-o-double-g', \"d-o-double-g's\", 'd-o-double-g,', 'd-o-double-g-y,', 'd-o-double-gi-zee', 'd-o-double-gi-zee,', 'd-o-double-gizzay', 'd-o-dub', 'd-o-dubb,', 'd-o-g', \"d-o-g's\", 'd-o-g,', 'd-o?', 'd-p-c', 'd-r-e', 'd-town', 'd.', 'd.c', 'd.c.,', 'd.o', 'd.o.', 'd.o.c', 'd.p', 'd.p.g.', 'da', \"da's\", 'da,', 'da-', 'da-da-da-da-dah', \"dabbin'\", 'daddy', 'daddy,', 'dah', 'daily,', 'dame,', 'dammit', 'damn', 'damn,', 'damus', 'dance', 'dance?', 'dancing', 'dancing,', 'dancin’', 'danger,', 'dangerous', 'dank', 'dank,', 'dark', 'dark,', 'darker', 'darkness', 'dash', 'dash,', 'dat', 'data', 'date', 'dated', 'daughter', 'daughter,', 'daughters,', 'davis', 'dawg', 'dawg,', 'dawn', 'day', \"day'll\", 'day,', 'day?', 'days', 'days,', \"daytona's,\", 'daytons', 'daz', 'daz,', 'daze,', 'dazed', \"db's,\", 'de', 'dead', 'deadly', 'deal', 'dealin', \"dealin',\", 'dealing', 'dear', 'death', 'deceased', 'deceived', 'deceptive', 'deck', 'deck,', 'decked', 'dedicated', 'dedication,', 'deee', 'deep', 'deep,', 'deez', 'def', 'definitely', 'degrees,', \"deja'\", 'delete', 'delicious', 'delivery', 'dem', 'demeanor', 'demo,', 'demons', 'depression', 'depth', 'depths', 'deray', 'describe', 'deserve', 'despite', 'destination', 'destiny,', 'detox,', 'detoxing,', 'deuce', 'devil', 'devil,', 'deville', 'devils', 'devious', 'devoted', 'devour', 'devoured', 'dey', 'di', 'di-di', 'dial', 'diamonds', 'dicc', 'dice', 'dice?', 'dick', 'dick,', 'dicked?', 'dickies', 'dicks', 'did', 'did,', 'diddy', 'diddy-dum', \"didn't\", \"didn't,\", 'didn’t', 'die', 'die,', \"dieg's\", 'difference', 'differences', 'different', 'differently', 'dig', 'dig?', 'diga', 'diggin', 'digging', 'diggity-daz', 'diggy', 'digits', 'dikembe', 'dilemma', 'dilly', 'dime', 'dimelo', 'dimes', 'dine', 'dip', 'dip,', 'dip..', 'dippers', 'dippin', \"dippin'\", \"dippin',\", 'dipping', 'direct', 'direction', 'dirt', 'dirt,', 'dirty', 'dirty...', 'disappears,', 'discourage', 'dishes', 'dishin', 'disobedient,', 'disrespect', 'disrespected', \"disrespectin'\", 'diss', \"dissin'\", 'dissolves', 'distance', 'disturb', 'ditch', \"ditchin'\", 'dividing,', 'diznick', 'dizzel', 'dizzie,', 'dizzle', 'dizzle,', 'dizzy', 'dj', 'do', \"do'\", \"do's\", 'do,', 'do-da-da', 'do-do-do-do,', 'do-rag', 'do?', 'doc', 'doc,', 'doctor', 'doctor?', 'dodi', 'dodi,', 'doe', 'doe,', 'does', 'dog', 'dog,', 'dogg', 'dogg\"', \"dogg's\", 'dogg,', 'dogg.', 'dogg?', 'doggfather', 'doggie', 'doggies', 'dogging', 'doggs', 'doggs,', 'doggy', \"doggy's\", 'doggy,', 'doggystyle', 'doggystyle,', 'dogpound', 'dogs', 'dogs...', 'doin', \"doin'\", 'doin?', 'doing', 'doja', 'dolla', 'dollar', 'dollar,', 'dollars', 'dollars,', 'dome', 'dominator,', 'dominican', 'domino', 'dominoes', 'dominos', 'don', \"don't\", \"don't,\", 'done', 'done\",', 'done,', 'donors,', 'dont', 'don’t', 'doo', 'doo,', 'doo-doo-doo-da-dahhh', 'doo-rag', 'doob', 'dooby,', 'door', 'door,', 'doorbell', 'doors', 'doors,', 'dope', 'dope,', 'dope?', 'dopeness', 'dopest', 'dopest?', 'dosed', 'double', 'double-double-double', 'doubt', 'dough', 'dove', 'doves', 'down', 'down,', 'down.', 'down?', 'downs', 'downs,', 'downstairs', 'downtown', 'doze', 'dozen', \"dpg's\", 'dpg,', 'dpg-unit', 'dpgc', 'dpgc,', 'dr.', 'draft', 'drag', 'drama', 'drama,', 'dramatics', 'drank', 'drano', 'drawls,', 'dre', 'dre\"', 'dre,', 'dre-loc', 'dre.', 'dre:', 'dre?', 'dream', 'dream,', \"dreamin'\", 'dreams', 'dreams,', 'dress', 'dress,', 'dressed', 'dresser', 'dressing', 'drift', 'drink', 'drink,', 'drink?', 'drinkin', \"drinkin'\", \"drinkin',\", 'drinking', 'drip', 'drip,', \"drippin'\", 'drive', 'drive-by', 'driveby', 'drivin', \"drivin'\", \"drivin',\", 'driving', 'drizzay,', 'dro', 'drool', 'drop', 'drop,', 'dropped', \"droppin'\", 'drops', 'drops,', 'drought', 'drove', 'drown', 'drug', \"druggie's\", 'drugs,', 'drum,', 'drumming', 'drunk', 'dry', 'dry,', 'dtf', 'dub', 'dub,', 'dubai,', 'dubb', 'dubs', 'duck', 'ducka', 'dude,', 'due', 'dues', 'dues,', 'duffle,', 'duh,', 'dulos', 'dum', 'dum,', 'dumb', \"dumpin'\", 'dumps', 'dust', 'dutchie', 'dwell,', 'dyd', 'dyin', 'dynamite', 'déjà', 'e', \"e'ry\", 'e-a-t', 'e-i', 'e-rock,', 'e-z', 'e.', 'each', 'eachother', 'eagle', 'ear', 'ear,', 'earlier', 'early', 'earn', 'earned', 'earphones', 'ears', 'ears,', 'ears?', 'earth', 'ease', 'ease,', 'east', 'east\",', 'east,', 'eastsidaz', 'eastside', 'eastside,', 'easy', 'easy-', 'eat', 'eat,', 'eat?', \"eatin'\", 'eating', 'eazy', 'ed', 'edged,', 'edible', 'edible,', 'edibles?', 'eee-ya-ya-ya-ya-yah', 'eeeyiyiyiyi', 'eff', 'effect', 'effects', 'eggnog', 'eggs', 'ehh...', 'eight', 'eight-three,', 'eighty-five,', \"eighty-fo',\", 'eighty-two', 'either', 'either.', 'el', 'elastic', 'electrifyin', 'elevate', 'eligible', 'else', 'elves,', 'em', \"em'\", 'em,', 'emcee’s', 'emerge', 'emergency', 'emergency,', 'emma,', 'emoji', 'empty', 'en', 'end', 'endo', 'endorsements,', 'ends', 'ends,', 'enemies', 'enemies,', 'enjoy', 'enjoying', 'enough', 'enough,', 'enron', 'enseñó', 'enter', 'entertainer', \"enticin',\", 'entretengo', 'envy', 'episode', 'equals', 'equipped', 'era', 'era,', 'errbody', 'err’y', 'eruption', 'eruption,', 'es', 'escape', 'escape,', 'ese', 'ese,', 'eses', 'especially', 'estoy', 'estuviera', 'está', 'eternal', 'eternity', 'european', 'evander', 'eve', 'eve,', 'even', 'evening', 'ever', 'everbody', 'every', 'everybody', \"everybody'll\", \"everybody's\", 'everybody,', 'everybody.', 'everyday', 'everyday,', 'everyday’s', 'everythang', 'everythang,', 'everything', 'everything,', 'everytime', 'everywhere', 'evolve', 'ex-rated', 'exact', 'example', 'except', 'exchange', 'exchanged', 'executive', 'exercise', 'exhale', 'exotic', 'expeditiously', 'explicit,', 'exquisite,', 'exterior', 'eye', 'eye,', 'eye...', 'eye?', 'eyeball', 'eyebrow', 'eyed', 'eyes', 'eyes,', 'eyes.', 'ez', 'fa', 'fabulous', 'face', 'face,', 'faces', 'fact', 'fact,', 'fact.', 'fade', 'faded', 'faded,', 'fading', 'fags', 'fails', 'faint', 'fainting', 'fair', 'fairy', 'faith', 'fake', 'fakin', \"fakin'\", 'faking,', 'falcon', 'falcon,', 'fall', 'fall,', \"fallin'\", 'falls', 'fam', 'fame', 'family', \"family's\", 'famous', 'famous,', 'fan', 'fan,', 'fanatic', 'fans', 'far', 'fascinating', 'fashion', 'fast', 'fast,', 'faster', 'fat', 'fat-ass', 'fate', 'father', 'fatty,', 'fault', 'favor', 'favorite', 'favors', 'fay', 'fear', 'fear,', 'fears', 'feast', 'feds', 'fee', 'feed', 'feed,', 'feedback', 'feel', 'feel,', 'feel...', 'feelin', \"feelin'\", \"feelin'?\", 'feeling', 'feelings', 'feels', 'feet', 'fell', 'fella', 'fellas', 'fellas,', 'felonies', 'felt', 'female\"}', 'females', 'ferrari', 'ferrari,', 'fest', 'fetty,', 'few', 'few,', 'field,', 'fiend', 'fiend,', \"fiendin',\", 'fiends', 'fiends,', 'fifth', 'fifth,', 'fifty', 'fifty-ninath', 'fight', 'fight,', 'fighter', \"fightin',\", 'fighting', 'figure', 'figures', 'file', 'files', 'fill', 'filled', 'fillin', 'filling', 'filthy', 'filthy,', 'fin', 'finally', 'find', 'fine', 'finger', \"finger-lickin'\", 'fingernails', 'fingers', 'fingers,', 'finish', 'finished', 'finished,', 'finna', 'fire', 'fire,', 'firing', 'first', 'first\".', 'fish', 'fishing', 'fit', 'fitted', 'five', 'five,', 'fix', 'flag', 'flag,', 'flaggin', 'flags', 'flakey', 'flannel,', 'flash', 'flashing', 'flashy', 'flat', 'flattery', 'flavor', \"flavor's\", 'flavors,', 'flea', \"flea'n\", 'flea,', 'fleas', 'fleetwood', 'flesh', 'flesh,', 'flex', 'flexes', 'flexing,', 'flick', 'flicks', 'flight', 'flip', 'flip,', 'flip-flop', 'flip-flop,', 'flipped', 'flippin', \"flippin'\", 'flips', 'flo', \"flo'?\", 'float', 'flockin', 'flood', 'floor', 'floor,', 'floss,', 'flossin', 'flossin,', 'flossing', 'flow', 'flow,', 'flower', 'flowers', 'flowing', 'flown', 'flu', 'fluid', 'fly', 'fly,', 'flyest', 'flyin', 'flying', 'fm', 'fo', \"fo'\", \"fo',\", \"fo'?\", \"fo'shigiddy,\", 'fo-five', 'fo-fo', \"foamin'\", 'focus', 'focus,', 'focused', 'foe?', 'foes', 'fog', 'foggy', 'fold', 'folded', 'folk', 'folks', 'folks,', 'follow', 'follow,', 'fondue', 'food,', 'foods', 'fool', 'fool,', 'fool?', 'fooling', 'foolish', 'fools', 'fools,', 'foot', 'for', 'for,', 'for...', 'for?', 'for?\"', 'force', 'forced', 'foreign', 'foreplay,', 'forever', 'forget', 'forgot', 'forgot,', 'form', 'formed', 'formost', 'fort', 'forth,', 'fortune', 'fortune,', 'found', 'fountain', 'four', 'four,', 'foxx,', 'fragile', 'frame,', 'frames,', 'freak', 'freak,', 'freak-um', 'freak?', 'freaks', 'freaky', 'freaky,', 'freaky...', 'fredwreck', 'free', 'free,', 'freedom', 'freestyle', 'freeway', 'freeze,', 'french', 'fresh', 'fresh\",', 'fresh,', 'fried', 'friend', 'friend,', 'friend?', 'friendly', 'friends', 'friends,', 'fries', 'friz-ost', 'froggy', 'from', 'from,', 'from:', 'front', 'front,', 'fronted', \"frontin',\", 'frost', 'frowns', 'froze', 'fruity', 'fubu', 'fuck', \"fuck's\", 'fuck,', 'fuck-faces', 'fuck?', 'fucked', 'fuckin', \"fuckin'\", 'fucking', 'fuckin’', 'fue?', 'fugazzi', 'fugga', 'fulfill', 'full', 'fulla', 'fullest', 'fullest,', 'fully', 'fun', 'fun,', 'function', 'funeral,', 'funk', 'funk,', 'funky', 'funky-ass', 'funny', 'fuss', 'fussing', 'futon', 'futuristic', 'fuzz', 'g', \"g'd\", \"g's\", \"g's,\", \"g'z\", 'g,', 'g,g,g,g,g,g,g-unit', 'g-boy', 'g-dogg?', 'g-funk', 'g-funk,', 'g-nic', 'g-rap', 'g-thang', 'g-unit', 'g-unit,', 'g-y', 'g-yeah', 'g-yeah..', 'g4', 'g5s', 'g6er,', 'gain', \"gainin'\", 'game', 'game\"', 'game,', 'game.', 'game?', 'games', 'games,', 'gan-jay', 'gang', 'gang,', 'gang-sta', 'gang-sta,', 'gangbang', 'gangbanger', \"gangbangin'\", 'gangbanging', 'gangs', 'gangsta', \"gangsta's\", 'gangsta,', 'gangsta?', 'gangstas', 'gangstas,', 'gangster', 'gangster,', 'gank', 'gap', 'garage', 'gas', 'gas,', 'gastando,', 'gat', \"gat'll\", 'gat,', 'gate', 'gates', 'gates,', 'gave', 'gave,', 'gazing', 'gcs', 'geeda,', 'geeked', 'generation', 'genesis', 'gentle,', 'gentlemen', 'gentlemen,', 'gents,', 'get', 'get,', 'get-a', 'get-down', 'get-go', 'getaway', 'gets', 'gettin', \"gettin'\", 'gettin,', 'getting', 'ghetto', 'ghetto,', 'ghost', 'gi-din,', 'gift', 'gifts', 'gifts,', 'giggin', \"giggin'\", 'gigging', 'gillespie', 'gilly', 'gimme', 'gin', 'gin,', 'girl', 'girl,', 'girlfriends', 'girls', 'girls,', 'git', 'give', 'given', 'giver', 'gives', 'givin', \"givin'\", 'giving', 'gizzame', 'gizzel,', 'gizzle', 'gizzo', 'gizzo,', 'glad', 'glass', 'glass,', 'glasses', 'glazed', 'glide', 'glimpse', 'glimpsing', 'globetrotters', 'glock', 'glocks', 'glory,', 'glowing', 'glue', 'go', 'go\"', 'go,', 'go?', 'go?\"', 'god', 'god\"', 'god,', 'goddammit', 'goddamn', 'goes', 'goes,', 'goin', \"goin'\", 'goin,', 'going', 'going,', 'gold', 'gold,', 'goldie', 'golf', 'gon', \"gon'\", 'gone', 'gone,', 'gone?', 'gonna', 'good', 'good\"', 'good,', 'good,\"', 'goodrich', 'gooned', 'goose', 'got', \"got's\", 'got...', 'gotchu', 'gotchu,', 'goth-em', 'gots', 'gotta', \"gotta'\", 'gouda,', 'grab', 'grabbed', \"grabbin'\", 'grabbin’', 'grabs', 'grace', 'gracefully', 'grade', 'grader,', 'grades', 'gradually', 'graduated', 'graduated,', 'grain,', 'gram', 'grand', 'granddaddy', 'granddaughter', 'grandmother', 'grandpappy', 'granny', 'granted,', 'grape,', 'grasp', 'graveyard', 'gray', 'great', 'greater', 'greedy', 'green', 'green,', 'green-eyed', 'greene', 'greens', 'greens,', 'greetings,', 'grew', 'grey', 'grimey', 'grin', 'grinch', 'grind', \"grindin'\", 'grinding', 'grinding,', 'grip', 'grip,', 'gripped', 'gripping', 'grips', 'grits', 'grizzind', 'groan', 'groomed', 'groove', 'groovin', \"groovin'\", \"groovin',\", 'groovy', 'ground', 'groundbreaking', 'group', 'group,', 'groupie', 'groupies', 'groupies,', 'grove', 'grow', 'growin', \"growin'\", 'growing', 'grown', 'grown,', 'grows', 'growth', 'gucci', 'guerrilla', 'guess', 'guessing', 'guide', 'guilty', 'guitar', 'gum', 'gun', 'gun,', 'gunfight', 'gung', 'gunplay', 'guns', 'gunshot', 'gunshots', 'gunshots,', 'guppies,', 'gush', 'guts', 'guy', 'guy,', 'guys', 'guys\"', 'gz', 'gz,', 'g’s', \"h's\", 'h-d-3,', 'h-o-t', 'ha', 'ha,', 'ha-ha-ha', 'ha-ha-ha,', 'habit,', \"hace'\", 'had', 'haha', 'haha,', 'hail', 'hair', 'hair\"', 'hair,', 'hairdo', 'half', 'half-dead', 'halfway', 'hall', 'hallelujah', 'hammer', 'hand', 'hand,', 'handcuffed', 'handcuffing', 'handle', 'handle,', 'handling', 'handouts', 'hands', 'hands,', 'handy', 'hang', 'hangin', \"hangin'\", 'hanging', 'happen', 'happened', 'happenin', \"happenin'\", \"happenin',\", \"happenin'?\", 'happenin?', 'happening', 'happening,', 'happening?', 'happens', 'happin', 'happy', 'hard', 'hard,', \"hardco',\", 'hardcore,', 'harder', 'hardest', 'hardest,', 'hardwood', 'harlem', 'harm', 'harold', 'harpo', 'harris,', 'has', 'hat', 'hate', 'hated', 'hater', 'haters', 'haters,', \"hatin'\", 'hating', 'hating,', \"hatnin'\", 'have', 'have,', \"haven't\", 'haven’t', 'havin', \"havin'\", \"havin',\", 'having', 'hawk', 'haze', 'he', \"he'll\", \"he's\", 'he,', 'head', 'head,', 'headed', 'headin', 'health', 'hear', 'heard', 'heard,', \"hearin'\", 'hearing', 'heart', 'heart,', 'heat', 'heat,', 'heated,', 'heater', 'heaters,', 'heathens', 'heaven', 'heavy', 'heavy,', 'heck', 'heeeeeee,', 'heezy,', 'heh,', 'hehe,', 'helicopters', 'hell', 'hell,', 'hella', 'hello?', 'hellraisin', 'help', 'help,', 'helped', 'hem', 'hen', \"hen'\", 'hen,', \"henn',\", 'henn-dawg', 'hennessy', 'henny', 'henny,', 'her', 'her,', 'her?', 'herbal', 'here', \"here's\", 'here,', 'here.', 'here?', 'here’s', 'heroes', 'heron', 'hers', 'hesitate', 'hey', 'hey,', 'hi', 'hi,', 'hid', 'hide', 'hiding', 'hiding,', 'high', 'high,', 'higher', 'highly', 'highness', 'highway', 'hill', 'hills', 'hills,', 'him', 'him,', 'him?', 'himself', 'hip', 'hip-hop', 'hip-hopper,', \"hippin'\", 'hips', 'hips,', 'his', 'historic,', 'history', 'history,', 'hit', 'hit,', 'hit-hard', 'hits', 'hits,', 'hitta', 'hittas', 'hitter', 'hitter,', \"hittin'\", 'hitting', 'hiv', 'hm', 'hmm', 'hmm,', 'hmm..', 'ho', \"ho's\", \"ho's,\", 'ho,', 'hobby', 'hoe', 'hoe?', 'hoein', 'hoeing', 'hoes', 'hoes,', 'hog', 'hog,', 'hold', 'holdin', \"holdin'\", 'holding', 'hole', 'holiday', 'holla', 'holler', 'holler,', \"hollerin'\", \"hollerin',\", \"hollerin';\", \"hollin'\", 'hollow', 'hollywood', 'hollywood,', 'holmes,', 'holy', 'holyfield,', 'home', 'home,', 'homeboy', \"homeboy's\", 'homeboy,', 'homeboys', 'homegirl', 'homeless', 'hometown', 'homey', 'homey,', 'homeys', 'homey”', 'homie', \"homie's\", 'homie,', 'homies', 'homies,', 'homies.....', 'homiez', 'hommie,', \"hon',\", 'hon-cho', 'honey', 'honey,', 'honeys,', 'hoo', 'hoochie', 'hood', 'hood,', 'hood?', 'hooded', 'hook', 'hooked', 'hoop', 'hoops', 'hooroobies,', \"hootin'\", \"hootin',\", 'hoovers', 'hop', 'hope', 'hoped', 'hopeless', 'hopes', \"hopin'\", 'hopped', \"hoppin'\", 'horn,', 'horny', 'horse', 'horsemen', 'hosting', 'hot', 'hot,', 'hotels', 'hotter', 'hottest', 'hounding', 'hour', 'hours', 'house', \"house'n\", \"house's\", 'house,', 'house?', 'houston,', 'hov', 'how', \"how'd\", 'however', 'however,', 'huf', 'hugged', 'hughey', 'huh', 'huh,', 'huh?', 'human', 'hump', 'hump,', \"humpin'\", 'hundred', 'hundred,', 'hundred-thousand', 'hundreds', 'hungry', 'hunnid', \"huntin'\", 'hurricane', 'hurricanes', 'hurry', 'hurry,', 'hurt', 'hurt\"', 'hurts,', 'hustla,', 'hustlas', 'hustlas,', 'hustle', 'hustle,', 'hustler,', 'hustlers', \"hustlin'\", \"hustlin',\", 'hydraulics', 'hypnotize', 'i', \"i'd\", \"i'll\", \"i'm\", \"i'ma\", \"i'mma\", \"i've\", 'i,', 'i...', 'i?', 'ibiza?', 'ice', 'ice,', 'ideas', 'idol,', 'if', 'ignit', 'illegal', 'im', 'imaginary', 'imagination', 'imagine', 'imagine,', 'imagine?', 'imagining', \"imitatin'\", 'imitation', 'imitator', 'impala', 'impalas', 'impeccable', 'imperial', 'important', 'imposters,', 'impressed', 'in', 'in,', 'in-between', 'inch', 'incredible', 'indeed', 'indeed,', 'indo', 'indo,', 'industry', 'industry,', 'influence,', 'information,', 'infrared', 'ingredient', 'inhale,', 'injection,', 'inn,', 'innocent', 'innovater,', 'inquire', 'inside', 'insides', 'inspired', 'instant', 'instead', 'intellectual,', 'intelligent', 'interact', 'interior', 'internationally', 'interrupts', 'interview,', 'into', 'intro:', 'introduced', 'introduction', 'introduction,', 'invalid', 'invite', 'invited,', 'involved', 'iron', 'ironic', 'is', 'is,', 'isley', \"isn't,\", 'issue', 'it', 'it\"', \"it'll\", \"it's\", \"it's,\", 'it,', 'it.', 'it...', 'it?', 'it?\"', 'its', 'itty', 'itunes', 'it—take', 'it’s', 'izz-el,', 'izzle', 'izzon', 'i’ll', 'i’m', 'i’ma', 'i’ve', 'j', 'j\"', \"j's\", 'j,', 'j-u-s-t', 'ja', 'jack', 'jack-off', 'jacked,', 'jacker', 'jacket', 'jackoff', 'jacks', 'jackson', 'jacquees', 'jacuzzi', 'jag', 'jagged', 'jail', 'jail,', 'jails', 'jam,', 'jamaica,', 'jamaican', 'james', \"jane's\", 'janet', 'jarabe', 'jay', 'jay-z', 'jays', 'jazzy', 'jc', 'jealous', 'jean', 'jeans', 'jed', 'jefferson,', 'jelly', 'jenz', 'jerk', 'jerk,', 'jerkin', 'jerkin,', 'jerking', 'jersey', 'jersey,', 'jesus', 'jet', 'jimming', 'jingle,', 'jo,', 'job', 'job,', 'jock', \"jockin'\", 'johnny', \"johnson's\", 'join', 'joint', 'joint,', 'joint?', 'joints', 'joints,', 'joke', 'joke\"', 'joked,', 'jokin?', 'jolly', 'joneses,', 'journal', 'journey', 'journey,', 'joy', 'joyrich', 'juan', 'judas', 'judge', \"jugglin'\", 'juice', 'juice\"', 'juice,', 'julio', 'jump', 'jumped', 'jumper', \"jumpin'\", \"jumpin',\", 'jumpsuit', 'junior', 'just', 'just,', 'just…', 'k', \"k's,\", 'k-dub,', 'kaepernick', 'kamikaze', 'keen', 'keep', \"keepin'\", 'keeping', 'keeps', \"kel'\", 'kell', 'kells', 'kelly', 'kels', 'kendrick', 'kept', 'kept,', 'key', 'keys', 'keys,', 'keys?', 'khaki', \"khaki's\", 'khakis', 'khakis,', 'khalifa', 'ki', \"ki's\", 'kick', 'kicked', 'kickin', \"kickin'\", 'kicks', 'kid', 'kidding,', 'kids', 'kids,', 'kill', 'kill,', 'killa', 'killa,', 'killed', 'killer', 'killer,', 'killers', 'killin', \"killin'\", \"killin',\", 'kind', 'kinda', \"kinda'\", 'king', 'king,', 'king?', 'kingpin', 'kings', 'kiss', 'kissin', 'kissing', 'kite', 'kiz-ost', 'kizzle,', 'kk', 'klc', 'knees', 'knees,', 'knew', 'knew,', 'knick-knack,', 'knife', \"knight's\", 'knight,', 'knock', 'knockin', \"knockin'\", 'knocking', 'knockout', 'knot', 'knotted', 'know', 'know,', 'know...', 'know?', \"knowin'\", 'knowledge', 'known', \"known'\", 'known,', 'knows', 'kobe', 'kobe,', 'koch', 'kokane', \"kong's\", 'kool-aid?', 'krazy', 'kringle?', 'kris', 'krypton,', 'kryptonite', 'kurtis', 'kurupt', \"kurupt's\", 'kurupt,', 'kush', 'kush,', 'kushmore', 'kyptonite', \"l's\", \"l-b's-c\", 'l-b-c', \"l-o-c's\", 'l.a,', 'l.a.', 'l.a.,', 'l.b.', 'l.b...', 'l.b.c', 'l.b.c.', 'la', 'la,', 'la-da-da-da-dah', 'laaaid', 'label', 'labor,', 'labor?', 'laced', 'lack', 'ladies', 'ladies,', 'lady', 'lady,', 'laid', 'lake', 'laker', 'lamar', \"lambo',\", 'lamborghini', 'lame,', 'land', 'land,', 'landed', 'landy,', 'lane', 'lane,', 'lanes,', 'lap', 'lap,', 'larga', 'large,', 'last', 'lasted', 'late', 'late,', 'later', 'laters', 'latinos', 'laugh', 'law', 'law,', 'lawn', 'lawyer,', 'lay', 'layin', \"layin'\", 'laying', 'lb', 'lbc', \"lbc's\", 'lbc,', 'le', 'lead', 'leaf', 'leaf,', 'leafs', 'league', 'league,', 'lean', \"leanin'\", \"leanin',\", 'leaning,', 'leap', 'learn', 'learned', 'learning', 'learnt', 'leash,', 'least', 'least,', 'leather', 'leave', 'leaves', \"leavin'\", 'leaving', 'leaving?', 'lee-zac', 'left', 'left,', 'leg', 'leg,', 'legal', 'legalize', 'legend', 'legend?', 'legit,', 'legs', 'lemme', 'lemon', 'lemonade', 'lemonade,', 'les', 'less', 'lesson', 'lesson,', 'let', \"let's\", 'lethal', 'letter', 'letti', 'lettin', 'letting', 'level', 'levels', 'levitate', 'lexus', 'lexus,', 'libra', 'license', 'lick', 'licked', 'licking', 'licking,', 'lie', 'lie,', 'lies', 'life', \"life's\", 'life,', 'lifesavers', 'lifestyle,', 'life’s', 'lift', 'light', 'light,', 'light-brown', 'light...', 'lightening', 'lighter', 'lighters', 'lights', 'lights,', 'like', 'like,', 'like?', 'likes', 'liking', 'lil', \"lil'\", 'limbo', 'limit', 'limit\"', 'limit,', 'limits', 'limo', 'limo,', 'limousine', 'lincoln', 'line', 'linen', 'lines,', 'lion', 'lip', 'lips', 'lips,', 'lipstick', 'liquor', 'lisas', 'list', 'listen', 'listen,', 'listenin', \"listenin'\", 'listening', 'listens', 'lit', 'litter', 'little', 'little-bitty', 'live', 'live,', 'live?', 'lived', 'liver', 'lives', 'livest', 'livin', \"livin'\", 'living', 'living,', 'liz-ost', 'lizzack', 'lizzay,', 'lizzook', 'llevar', 'lmfao', 'lo', 'lo-lo', 'loaded,', 'loadin', 'loafs,', 'lobby', 'loc', \"loc'ed\", \"loc'n\", \"loc'n,\", \"loc'ness\", 'loc,', 'loc-est', 'loc?', 'local', 'local,', 'location', 'loccs', \"locin'\", 'lock', 'locked', 'locking', 'locks', 'loco', 'loco?', 'locos', 'locs?', 'locust', 'lodi', 'logo', 'lollipops', 'london', 'loneliness', 'lonely', 'long', 'long,', 'longer', 'look', 'look,', 'looked', 'lookin', \"lookin'\", \"lookin',\", 'looking', 'looking,', 'looks', 'looney', 'loony,', 'loop,', 'loop-loop', 'loopy,', 'loose', 'loot', 'loot,', 'lord', 'lord,', 'lord?', 'los', 'lose', 'lose,', 'losers,', 'lost', 'lot', 'lotta', 'loud', 'loud,', 'louie', 'louis', 'lounge', 'love', 'love\"', 'love,', 'love-ely', 'loved', 'lover\"', 'loves', 'lovin', \"lovin'\", 'loving', 'low', 'low,', 'low-low', 'low-lows', \"low-ridin's\", \"lowenhart's\", 'lowrider,', 'lowriders', 'luciano', 'luck', 'lucky', \"luger's\", 'luke', 'lunatic', 'lunatics', 'lungs', 'lungs,', 'luscious', 'luther', 'luuuuuuv', 'lyin', 'lying', 'lynch,', 'lyrical', 'lyrics', 'm', 'm-a-c,', 'ma', 'ma,', 'mac', 'mac,', 'macadamian,', 'macauley', 'machine', 'mack', 'mack-allenium', 'mack-allenium,', \"mackin'\", 'mad', 'mad-ass', 'madden', 'madder', 'made', 'mae', 'mafioso', 'magazine', 'magazines', 'magic', 'magic,', 'maids', 'mail', 'main', 'mainline', 'maino', 'maintain', 'major', 'major,', 'makaveli,', 'make', 'make-believe', 'makes', 'makin', \"makin'\", 'makin,', 'making', 'makings', 'maliah,', 'malibu?', 'mall,', 'mama', 'mama,', 'mamacita,', 'mami', 'mami,', 'man', 'man\"', 'man,', 'man..', 'man?', 'mandatory', 'mane', 'mane?', 'mannish', 'mansion', 'mansions', 'mantengo', \"manuev'in\", 'manuscript', 'many', 'many...', 'map', 'marathon', 'marijuana', 'mark', 'mark-ass', 'marked', 'marketing', 'markie,', 'marlboro', 'married', 'marshall', 'martha,', 'martin', 'mary', 'mary,', \"maserati's\", 'mash', 'mash,', \"mashin'\", 'mass', 'massacre', 'master', 'matrix', 'matter', 'matter-fact,', 'mausberg', 'max', 'may', 'maybach', 'maybacher', 'maybe', 'mayn-sion,', 'mayne,', 'mayne?', 'maze', 'mc', \"mc's\", 'mccoy', 'me', 'me,', 'me.', 'me;', 'me?', 'meal', 'mean', 'mean,', 'mean?', 'meanest,', \"meanin'\", 'meaning', 'meaning,', 'meant', 'meantime', 'mean‚', 'meat', 'medical', 'medically,', 'mediocre', 'meditate', 'meet', \"meetin'\", 'melrose', 'melted', 'melvin', 'melón', 'memory', 'men', 'menace,', 'menage', 'mentality', 'mentality.', 'mentally,', 'menthol', 'mention', 'merchant,', 'merciful', 'mercy', 'merry', 'merry-go,', 'mess', 'message', 'message,', \"messin'\", 'messing', 'met', 'metal', 'metaphor', 'meth', 'method', 'mhm,', 'mi', 'mia', 'miami', 'mic', 'mic,', 'michael', 'michelle', 'microphone', 'mics', 'mics,', 'middle', 'midnight', 'midst', 'midwest', 'midwest,', 'might', 'mighty', 'mike', 'miles', 'milk', 'milking', 'mill', \"mill',\", 'mille,', 'millimeter', 'million', 'million,', 'millionaire', 'millionaires', 'millions', 'millions,', 'mind', 'mind,', 'minded', 'minds', 'mine', \"mine's\", 'mine,', 'mines', 'mines,', 'minimal', 'minimum', 'mink', 'minolta', 'minus', 'minute', 'minutes', 'miracle', 'mirror', 'mirror,', \"miscalculatin'\", 'mischievous', 'misdirected,', 'misery,', 'misfits', 'mislead', 'miss', 'miss,', 'missed', \"missin'\", 'mission', 'mission,', 'mission.', 'mississippi', 'missus', 'mist', 'mistakes', 'mistakin', 'mistreat', 'misty', 'mitt', 'mix', 'mixed', 'mixed-up', 'mixes', 'mizzine', 'mm', 'mm-mm-mm', 'mmmm,', 'mo', \"mo'\", \"mo',\", 'moan', 'mob', \"mobbin'\", 'mobbing', 'mobsters', 'model', 'models', 'moet', 'moet,', 'molly', \"mom's\", 'moment', 'momma', \"momma's\", 'momma,', 'momma;', 'mommy', 'mommy,', 'momo', 'moms', 'mona', 'money', 'money,', 'monster,', 'month', 'mood,', 'moods,', 'moon', 'moonwalk', 'moral', 'more', 'morgue', 'mormon', 'morn', \"morn'\", \"mornin'\", 'mornin,', 'morning', 'morning,', 'most', 'most,', 'mothafucka', 'mothafucka,', 'mothafucker', 'mothafuckin', \"mothafuckin'\", 'mothafucking', 'mother', \"mother's\", 'motherfucka', 'motherfucka,', 'motherfuckas', 'motherfucker', 'motherfucker,', 'motherfuckers', 'motherfuckers?', 'motherfuckin', \"motherfuckin'\", 'motherfucking', \"motherfuvkin'\", 'motherhood,', 'motion', 'motion,', 'motivated', 'motives', 'motto', 'mount', 'mountains', 'mourn,', 'mouth', 'mouth,', 'mouthful', 'mouths', 'move', 'move,', 'moved', 'moves,', 'movie', 'movies', 'movin', \"movin'\", 'moving', 'mr', 'mr.', 'ms.', 'mt.', 'much', 'much,', 'muh', \"muhfuckin'\", 'mujer', 'mula,', 'multiply', 'multiply,', 'mundo,', 'murder', 'murder,', 'murderer,', \"murderin'\", 'murderous', 'mushrooms,', 'music', 'music,', 'music?', 'must', 'must,', 'must\\ufeff', 'muthafucka', \"muthafucka's\", 'muthafuckaz', 'muthafuckin', \"muthafuckin'\", 'mutombo', 'mutt', 'my', 'my,', 'myself', 'myself,', 'n', \"n'ya\", 'n-i', \"n-u-t's,\", 'n.o.', 'n.w.a', 'na', 'na-na-na-na-na-nanana', 'na-na-na-na-na-nananana', 'nada', 'nah', 'nah,', 'nails', 'naked', 'naked,', 'name', 'name,', 'name?', 'named', 'name’s', 'napkin', 'nappy', 'narcotics', 'nark', 'nasty', 'nate', 'nation', 'national,', 'nature,', 'naw', 'naw,', 'near', 'near,', 'nearer', 'necessity', 'neck', 'neck,', 'neckbone', 'necklace', 'need', 'need,', 'needed', 'needed,', 'needed;', 'needs', 'needy-greedies', 'negative', 'negativity', 'negro', 'neighbor,', 'neighborhood', 'neighborhood,', 'neighbors', 'neighbourhood', 'nelson', 'neon', 'nephew', 'nephew,', 'neptizzle', 'neptunes', \"nerves'\", 'net', 'neva', 'never', 'new', 'newports', 'news', 'newton', 'next', 'next,', 'nfl', 'nibiru', 'nibiru,', 'nice', 'nice,', 'nicely,', 'nickels', 'nickname', 'niece,', 'nigga', \"nigga'll\", \"nigga's\", 'nigga,', 'nigga?', 'niggaro', 'niggas', \"niggas'll\", 'niggas,', 'niggas?', 'night', \"night's\", 'night,', 'nights', 'nike', 'nina', 'nine', \"nine'll\", 'nine-inch', 'nine-trey', 'nine-trizzay', \"nine-trizzay's\", 'nineteen-motherfuckin-ninety-three', 'ninety-four', \"ninety-four's\", 'ninety-three', 'nip', 'niro,', 'nizzle,', 'no', 'no\"', 'no,', 'no-', 'no-body,', 'no-no', 'nobody', 'noise', 'non-believers', 'none', 'none,', 'nonsense', 'noodles,', 'norm', 'normally', 'north', 'northside', 'not', 'not,', 'not-', 'notch', 'note', 'nother', 'nothin', \"nothin'\", 'nothing', 'nothing,', 'nothin’', 'notice', 'now', 'now)', 'now,', \"now-a-later's,\", 'now.', 'now?', 'nowhere', 'nowhere,', 'number', 'numbers', 'nut', 'nuthin', \"nuthin'\", 'nuts', 'nuts,', \"nuttin'\", 'nutty', 'nutz', 'nuys', 'ny', 'nympho-maniac', 'o', \"o'\", \"o'clock\", \"o's,\", 'o,', 'o-dog', 'o-ozuna,', 'o-p', 'o-p,', 'o-zones', 'o.e.', 'o.g', \"o.g's,\", 'o.g.', 'o.t', 'o.t.,', 'obama', 'obey', 'objection', 'observe,', 'occupied', 'ocean', 'of', 'off', 'off,', 'officer\"', 'official', 'often', 'og', \"og's\", \"og's,\", 'og,', 'oh', \"oh's\", 'oh,', 'oh-hooo', 'oh-o-o-o-oh', 'oh-o-o-o-oh,', 'oh-o-oh', 'ohh', 'ohh,', 'oil', 'ok', 'ok?', 'okay', 'okay,', 'olay', 'old', 'old,', 'older', 'older,', 'old‚', 'on', 'on,', 'on..', 'on...', 'on?', 'on?\"', 'once', 'one', \"one's\", 'one,', 'one-forty-five', 'one-two,', 'ones', 'online', 'only', 'only,', 'oodles', 'ooh', 'ooh,', 'ooh-la-la', 'oooh', 'oop,', 'oops', 'open', 'opened', 'opportunistic', 'oppose', 'opposite', 'optimos', 'or', 'order', 'order?', 'orientated', 'original', 'original,', 'originated', 'orleans', 'other', \"other's\", 'other?', 'ouch', 'ounce', 'ounces', 'ounces,', 'our', 'out', 'out*}', 'out,', 'out:', 'outchu', 'outfits', 'outlaw', 'outrageous', 'outside', 'outta', 'outta,', 'outweigh', 'oven', 'over', 'over,', 'over...', 'overseas', 'overworked', 'owe', 'own', 'own,', 'oww', 'oz.', 'p', \"p's\", 'p,', 'p-i-m-p', 'p-o-u-n-d', \"p-o-u-n-d's\", 'p-o-u-n-d,', 'p-u-s-s-y,', 'p.', 'p.o', 'p.o,', \"pa'l\", 'pac', 'pack', 'pack,', 'packaged', 'packed', \"packin'\", 'packing', 'packs', 'pad', 'paddywhack,', 'pager', 'pagoda,', 'paid', 'paid,', 'pain', 'pain,', 'paint', 'pair', 'pairs', 'pal,', 'palace', 'pale', \"palo'\", 'pals', 'pamphlet', 'pan', 'panties', 'pants', 'pants?', 'paper', 'paper,', 'papered', 'papers', 'papers,', 'papi\"', 'paranoia,', 'paranoid', 'park', 'park,', 'parker,', \"parkin'\", 'parking', 'parkinsons', 'parks,', 'parlayed', 'parole', 'parole,', 'part', 'partner', 'partner,', 'partners', 'parts', 'party', \"party's\", 'party,', 'pass', \"passin'\", 'passion', 'past', 'pasé,', 'pasó', 'pat', 'patek', 'path', 'patience', 'patient', 'patricia,', 'patrol', 'patrol,', 'patron', 'patterns', 'paulo,', 'pause', 'paved', 'pavement', 'paws', 'pay', \"payin'\", 'pays', 'pc', 'peace', 'peace,', 'peace.', 'peaceful', 'peaceful,', 'peach', 'peaches', 'pearl', 'pearls', 'pearls,', 'pearly', 'pedal', 'pedigree', 'pee', 'peek-a-boo,', 'peel', 'peel,', 'peeled', 'peep', \"peep's\", 'peep,', 'peeped', 'peers', 'pen', 'pen,', 'pencil', 'penis', 'people', \"people's\", 'people,', 'peoples', 'pepsi', 'perceive', 'percent', 'perdí', 'perfect', 'perfected', 'permission,', 'pero', 'peter', 'petting', 'phantom', 'phantom,', 'pharaoh', 'pharrell', 'phase', 'philadel', 'phone', 'phone,', 'phones', 'phonies', 'phoniness', 'phony,', 'photoshoot,', 'phys.', 'physically,', 'pic-a-nic', 'pick', 'picked', 'pickle', 'picky', 'picnic', 'picture', 'picture,', 'pictures', 'pid-in', 'pie', 'piece', 'piece,', 'pieces', 'pies', 'pigeon', 'piggly', 'pigs', 'pile', 'pill', 'pimp', \"pimp's\", 'pimp,', 'pimp-pimp', 'pimpin', \"pimpin'\", \"pimpin',\", \"pimpin's\", 'pimpin,', 'pimpin?', 'pimping', 'pimping,', 'pimpish', 'pimps', 'pimps,', 'pinch', 'pinhead,', 'pink-eye', 'pinkie', 'pipe', 'piper', 'pippen', 'pirus,', 'piss', 'pissed-on', 'pistol', \"pistol's\", 'pistol-whip', 'pistols', 'pitbull...', 'pittsburgh', 'pizzle,', 'pizzound', 'pj,', 'place', 'place,', 'plan', 'plan,', 'plane', 'plane,', 'planet', \"planet's\", 'plant', 'plastic', 'plate', 'plates', 'platinum', 'platinum\"', 'platnum', 'platoon', 'play', 'play,', 'playa', 'playa,', 'playas', 'played', 'player', 'player,', 'players', 'playin', \"playin'\", 'playing', 'plays', 'plea', 'pleading', 'pleas', 'please', 'please,', 'plenty', \"plenty'\", 'plizzay', 'plot', 'plots', \"plottin'\", 'plucked', 'plug', 'plus', \"po'-po'\", \"po-po's\", 'pocket', 'pocket,', 'pockets', 'pocus,', 'poetical', 'point', \"polarizin',\", 'police', 'polillo', \"politickin'\", 'poly', 'pontiac', 'pony', 'ponytails', 'poochie', 'pool', 'pooper', 'pop', 'pop,', 'pop-pop,', 'popped', 'popped,', 'poppin', \"poppin'\", \"poppin',\", 'poppin,', 'popping', 'popping,', 'pops', 'por', 'porn', 'porsche', \"porter's\", 'portions', 'position', 'post', 'postal', 'posted', 'poster', \"postin'\", 'pot', 'potato', 'potent', 'pothead', 'pound', \"pound's\", 'pound,', 'pound?', \"poundin'\", 'pounds', 'pounds,', 'pour', 'pourin', \"pourin'\", 'pouring', 'pout', 'powder', 'power', 'powerful', 'practice', 'praise', 'prance', 'pray', 'prayer', \"prayin'\", 'praying,', 'preach', 'preach,', \"preachin'\", 'precision,', 'prefer', 'preference', 'premiere', 'premise', 'prenup', 'prepare', 'prepared', 'prequel', 'presence', 'presence,', 'president', 'presidential', 'pressure', 'pressure,', 'prestigious', 'pretend', 'pretenders', 'pretty', 'price', 'price,', 'pride,', 'prince', 'print', 'prism', 'private', 'private...', 'privates', 'pro,', 'probably', 'problem', 'problem,', 'problems', 'proceed', 'proceedings', 'process', 'produced', 'profession', 'profit', 'profit,', 'progression', 'progression,', 'prohibits', 'project,', 'projects', 'prolly', 'promise', 'promise,', 'promo', 'promos', 'pronto', 'pronto,', 'proof', 'proper', 'prophecies', \"prophesizin',\", 'proposition', 'props', 'pros', 'prostitute', 'protect', 'protected', \"protectin'\", 'protection', 'prove', 'provoke', 'public', 'public,', 'pue-puerto', 'puff', \"puffin'\", 'puffing', 'puffs', 'puffs,', 'pull', 'pulled', 'pullin', 'pulpit', 'pulse', 'pump', 'pump,', 'pumped', 'pumping', 'punched', 'punk', 'punk-ass', 'punks', 'pup,', 'puppet', 'puppy', 'purp', 'purple', 'purse', 'pursue', 'pursuit,', 'push', 'pushed', 'pushers,', 'pussies', 'pussy', \"pussy's\", 'pussy,', 'pussy-ass', 'put', 'puttin', \"puttin'\", 'putting', 'puzzle,', 'q-ball', 'qp', 'quarta', 'quarter', 'quarters,', 'que', 'queens', 'question', 'quibble', 'quick', 'quick,', 'quick.', 'quicker', 'quit', 'quit,', 'quitter,', 'quitting', 'quién', 'quote', 'quotin,', 'r&b', 'r-a-g', 'rabbit', 'race', 'rack', 'rackets', 'radio', 'raekwon,', 'rag', 'rage', \"rage'll\", 'rage,', 'raggedy', 'rags', 'rags,', 'raiders', 'rain', 'rain?', 'rainy', 'raise', 'raised', 'raising', 'raj', 'rakim', 'rampage', 'ran', 'rang', 'range', 'rap', 'rap-a-lot', 'rapped', 'rapper', 'rapper?', 'rappers', 'rappers,', 'rappers.', 'rappin', \"rappin'\", 'rapping,', 'raspy', 'rat-tat-tat-tat', 'rat-tat-tat-tat,', 'rate', 'rather', 'rats', 'ratta,', 'raw', 'ray', 'raydiation', 'razors', 'rbx,', 're-up', 'reach', 'reaches', \"reachin'\", \"reactin'\", 'read', 'reading', 'ready', 'ready,', 'real', 'real,', 'real.', 'realer', 'realer,', 'realest', 'realest,', 'realism', 'reality', 'reality,', 'realize', 'really', 'really,', 'rear', 'rearview', 'reason', 'receipt', 'receive', 'received', 'recently', 'recess', 'recipe', 'reckless', 'recline', 'reclined,', 'recognize', 'recognize,', 'record', 'records', 'records,', 'red', 'redd', 'redman', 'redman,', 'reflection', 'reflections', 'refuse', 'regal', 'regardless', 'regulating,', 'rehab', 'reinforcements', 'relapse', 'relationship', 'relatives', 'relax', 'release', 'relentless', 'relevant,', 'relieve', \"relievin'\", 'remain', 'remained', 'remember', 'remind', 'reminds', 'reminisce', 'reminiscing', 'remorse', 'remote,', 'remotely', 'remy', 'rental', 'rep', 'repeat', 'replace', 'replay', 'repping', 'represent', 'representer', \"representin'\", 'represents', 'republic,', 'reputable', 'reputation', 'rerun,', 'respect', 'respect,', 'respecting', 'rest', 'retain', 'retriever', 'return', 'return,', 'reverend', 'revolved', \"revolvers'll\", 'rewind', 'rhyme', \"rhyme's\", 'rhymer', 'rhymes', \"rhymin'\", 'rhythm', 'rice', 'rice,', 'rich', 'rich,', 'richard', 'riches', 'riches,', 'richmond,', 'rick', 'ricky', 'rico', 'rid', 'ride', 'ride,', 'rider,', 'riders', 'rides', 'ridin', \"ridin'\", 'riding', 'right', 'right,', 'right?', 'righteous', 'rims', 'ringing', 'rings', 'rinse', 'rip', 'rippin', 'rips', 'rise', 'rise,', 'rising', \"riskin',\", 'river', 'rizzide', 'rizzow', 'road', 'roam', \"roastin'\", 'rob', 'robbin', \"robbin'\", 'robert', 'roc', 'rock', 'rock\"', 'rock,', 'rock-a-bye', 'rock-rock-right', 'rocka', 'rocket', \"rockin'\", 'rocking', 'rocks', 'rocks,', 'rodando', 'rodeo', 'role', 'roll', \"roll's\", 'roll,', 'roll?', 'rolled', 'rollie', 'rollin', \"rollin'\", 'rolling', 'rolls', 'rolls,', 'rolly', 'romney', 'ron', 'roof', 'roof,', 'rookie', 'room', 'room,', 'roots', 'ross,', 'rotates', 'rottweiler', 'rough', 'rough,', 'rough-neck', 'rougher', 'roughest', 'round', 'round,', 'route,', 'row', 'row,', 'royal', 'rub', 'rubber?', 'rubbers', 'rude', 'rudolph', 'rudy,', 'ruff', 'ruff,', 'ruffle', 'ruger', 'rugged', 'ruin', 'rule', 'rump', 'run', 'run,', 'runnin', \"runnin'\", 'running', 'rush', 'russ', 'russ,', 'russell', 'rythme', 's', 's-5', 's-n', 's-n,', 's-n-double-o-p', \"s-n-double-o-p'n\", 's-n-double-o-p,', 's.d', 's.d.,', 's.o.d', 's.o.d.', 'sac', 'sacco', 'sack', 'sack,', 'sacks', 'sacks*', 'sad', 'sadie', 'safe', 'safe,', 'safety', 'sag', \"saggin'\", 'sagging', 'said', 'said,', 'said...cause', 'saint', 'saints', 'sale', 'sale?”', 'sales,', 'sally', 'sam', 'same', 'san', 'sand', 'sandy', 'sanity,', 'santa', 'santa\"', 'santa,', 'santana', 'sat', 'saten', 'satisfied', 'sativa', 'saturday', 'saul', 'sauna', 'savage', 'save', 'saves\"', 'savior', 'savvy', 'savvy,', 'saw', 'saw,', 'say', 'say,', 'say..', 'say?', \"sayin'\", 'sayin,', 'saying', 'saying?', 'says', 'says,', 'scale,', 'scales', 'scandalous', 'scared', \"scarin'\", 'scatter', 'scenario', 'scene', 'scene,', 'scent', 'scheming', 'schizzle', 'school', 'school,', 'schoolyard.\"', 'science', 'scooby', 'scoop', 'scoop,', 'scooper,', 'scorned', \"scott'\", 'scrap', 'scrape', 'scraping', 'scratch', 'scream', 'scream,', 'screamin', \"screamin'\", 'screaming', 'screaming,', 'screen', 'screen,', \"screwin'\", 'scrilla', 'script', 'script,', 'scrub', 'scrub,', 'sea', 'sea,', 'seafood', \"seagram's\", 'seagrams', 'seal', 'search', 'searchin', 'season', \"season's\", 'seasonal', 'seat', 'seat,', 'seated', 'seater?', 'seats', 'second', 'second,', 'seconds', 'secret', 'section,', 'security,', 'seduction', 'seduction,', 'see', 'see,', 'see-through', 'see?', 'seeds', 'seeds,', \"seein'\", 'seem', 'seemed', 'seems', 'seen', 'seen,', 'sees', 'seesaw', 'seez-ight', 'sega', 'sell', 'sellin', \"sellin'\", 'selling', 'semantics', 'semester', 'sen', 'send', 'sense', 'sensual', 'sent', 'sentence', 'sentenced', 'sentimental', 'separate', 'serena,', 'serial', 'serious', 'serious,', 'serve', 'served', 'served,', 'services', 'servin', \"servin'\", 'serving', 'session', 'set', 'set,', 'set-trip,', \"settin'\", 'settle,', 'seven', 'seven,', 'seven-four-four-tre', 'seventeen', 'several', 'sex', 'sexist', 'sexu...', 'sexual', 'sexy', 'sha', 'shackled', 'shades', 'shakalaka', 'shakalaka,', 'shake', 'shaked', 'shakin', \"shakin'\", 'shaking', 'shall', 'shame', 'shame,', 'shando,', 'shanks,', 'shape,', 'shaq-daddy,', 'share', 'shark', 'sharks', 'sharp', 'sharper', 'shawty', 'she', \"she'd\", \"she'll\", \"she's\", \"she's...\", 'sheeit', 'sheeit,', 'sheets', 'sheets,', 'shelf', 'shell', 'shells', 'shells?', 'shendo,', 'shh\"', 'shift', 'shift,', 'shine', 'shinin', \"shinin'\", 'shining,', 'shipping', 'ships', 'shirt', 'shit', 'shit\"', \"shit'\", \"shit'll\", \"shit's\", 'shit,', 'shit?', \"shittin'\", 'shitting', 'shitty', 'shiznit\"', 'shizzle', 'sho', 'sho,', 'shoes', 'shoes,', 'shooby', 'shook', 'shoot', 'shoot,', 'shootin', 'shooting', 'shop', 'shops', 'shore,', 'short,', 'shortie', 'shorty', 'shorty,', 'shortymack', 'shot', 'shot,', 'shots', 'shots,', \"shotta'\", 'should', \"should've\", 'shoulder,', 'shoulders', \"shouldn't\", 'shout', 'shouted', 'shoutout', 'show', 'showed', 'showin', \"showin'\", 'shows', 'showstopper', 'shut', 'sick', 'sick,', 'side', 'side,', 'side?', 'sidekick', 'siders,', 'sides,', 'side—yeah,', 'siding', 'sigh,', 'sight', 'sign', 'sign,', 'sign?', 'signed', 'silence', 'silk', 'silky', 'silly', 'silver', 'similar', 'simon', 'simon,', 'simple', 'since', 'sing', 'singers', \"singin'\", 'singing', 'single', 'sink', 'sip', 'sippin', \"sippin'\", 'sipping', 'sippin’', 'sipps', 'sir,', 'sisqó', 'sister', 'sister,', 'sit', 'sittin', \"sittin'\", 'sittin,', 'sitting', 'sittin’', 'six', 'six-deuce', 'six-four', 'six-one,', 'six-trey', 'sixty-four', 'siz-auce', 'size', 'sizzle?', 'sizzz-ore', 'skateboard', 'ski', 'skies', 'skillet', 'skills', 'skin', 'skinny', 'skip', 'skip,', 'skippin', 'skirt', 'skunk,', 'sky', \"sky's\", 'sky,', 'slam', 'slam,', 'slammed', 'slammin', 'slang', 'slangin', \"slangin'\", 'slap', 'slapped', 'slapper,', 'slappin', 'slaps', 'slave', 'slavery', 'slayed', 'sleep', 'sleep,', 'sleep?', 'sleepin', 'sleeping', 'sleeps', 'sleigh', 'slice', 'slick', 'slid', 'slide', 'slide,', 'slidin', \"slidin',\", 'slightly', 'slim', 'slim,', 'slip', 'slip,', 'slipped', 'slippery', \"slippin'\", \"slippin',\", 'slipping', 'sloppy', 'slow', 'slow,', 'slowly', 'slu-', 'slug', 'slugs', 'smack', 'smacked', 'smacker,', 'small', 'smash', 'smash,', 'smashin', 'smell', 'smelled', 'smile', 'smiles', 'smiles,', 'smog', 'smoke', 'smoke,', 'smoked', 'smoker', 'smokers', 'smokes', 'smokin', \"smokin'\", \"smokin',\", 'smoking', 'smoking,', 'smooth', 'smothered', 'snacks', 'snap', 'snaps', 'snare', 'snatched', 'sneak', 'sneed', 'snicth,', 'sniffed', 'sniffin', 'snitch', 'snitches', 'snitches,', 'snooooooop', 'snoop', 'snoop\"', \"snoop'll\", 'snoop,', 'snoop?', 'snoopy', 'snoopy,', 'snow', 'so', 'so,', 'so..', 'soap', \"soarin'\", 'sock', 'socks', 'socks,', 'soft', 'sold', 'sold,', 'soldier', 'solemnly', 'solid', 'solo', 'solo,', 'solved,', 'some', \"some',\", 'some,', 'somebody', 'somebody\"', \"somebody's\", 'somehow', 'somehow,', 'someone', \"someone's\", 'somethin', \"somethin'\", \"somethin'?\", 'somethin,', 'somethin?', 'something', \"something's\", 'something?', 'sometimes', 'somewhat', 'son', 'sonando', 'song', 'song,', 'songs,', 'sons,', 'soon', 'sophmore', 'soprano', 'sorry,', 'sorta', 'soul', 'soulja', 'sound', 'sound?', 'sounds,', 'soundscan', 'sours', 'south', 'southside', 'space', 'spaced', 'spaghetti', 'spanish', 'spare', 'spark', 'sparked', 'sparking', 'sparkles', 'sparkling', 'sparrow', 'speak', 'speakin', \"speakin'\", 'speaking', 'special', 'specialize', 'speed', 'spend', 'spendin', \"spendin'\", 'spending', 'spent', 'spewed', \"spillin'\", 'spin', 'spinach', 'spinnin', \"spinnin'\", 'spinning', 'spiritual', 'spit', \"spittin'\", 'spitting', 'splendid,', 'spliff', 'spliffs', 'split', 'spokane', 'spoke', 'spokes', 'spoon', 'spot', 'spot,', 'spraaays', 'spray', 'spray,', 'sprayed,', 'spread', 'spreading', 'spring', 'sprinkled', 'sprung', 'spy', 'squab', 'squab,', 'square', 'squeakin', \"squeakin'\", 'squeal', 'squeeze', 'squeezing', 'squint', 'squirrel', 'squirrels', 'ssl?', 'st.', 'stacey', 'stacies', 'stack', 'stack?', 'stacked', 'stacks', 'stage', 'stage,', 'stages,', 'stainless', 'stalker', 'stance', 'stand', 'standin', \"standin'\", 'standing', 'standouts,', 'stands', 'star', 'star,', 'stare', 'stars', 'stars,', 'start', 'started', 'started,', 'starters', \"startin'\", 'starting', 'starts', 'state', 'state-to-state', 'station', 'station,', 'statue', 'status', 'status,', 'stay', 'stay\"', 'stayed', \"stayin'\", 'staying', 'stays', 'steadily', 'steady', 'steal', 'stealer,', 'stealin', 'steel', 'steeler', 'steelers', 'step', 'stepped', \"steppin'\", 'stepping', 'steps', 'stereo', 'stick', 'stick,', \"stickin'\", 'sticky', 'sticky,', 'stid-all', 'still', 'still,', 'stingers', 'stock', 'stocking', 'stole', 'stomach', 'stomp', 'stomped', 'stomped,', 'stoners', 'stones', 'stop', 'stop,', 'stopped', \"stoppin'\", \"stoppin',\", 'stopping', 'store', 'store,', 'stores', 'story', 'straight', 'straight,', 'strains,', 'stranded', 'strange?', 'stranger,', 'strangle', 'strap', 'strap,', 'strapped', 'streeeets', 'street', 'street,', 'streets', \"streets'll\", 'streets,', 'stress', 'stress,', 'stressed', 'stretch', 'stretch,', 'stricly', 'strikes', 'strip', 'strip,', 'stripes', \"stripper's\", 'strobe', 'stroke', 'strokes', \"strokin',\", 'stroll', 'strolling', 'strong', 'strong,', 'struggle', \"strugglin'\", 'struggling', 'strum,', \"sttin'\", 'stubborn', 'stuck', 'student', 'studio', 'study', 'stuff', 'stuff,', \"stuffin'\", 'stuffing', 'stupid,', 'sturdy', 'style', 'style,', 'style?', 'styles', 'su', 'su-whoop', 'su-whoop,', 'subscribe,', 'substitute', \"succeedin'\", 'success', 'success,', 'suck', 'sucka', 'sucka-ass', 'suckas', 'sucked', 'sucker', 'suckers', 'suddenly', 'sue', 'suenas', 'suffered,', 'sugar', 'suge', 'suge‚', 'suicide', 'suicide,', 'suicide-wrist', 'suit', 'suites', 'suits,', 'summer', 'summertime', 'sun', 'sundance', 'sunday', \"sunday's\", 'sunny', 'sup', 'super', 'superman', 'superman,', 'superstar', 'supply', 'support', 'supposed', 'sure', 'sure,', 'surf', 'surgeon', 'surprise', 'survival', 'survive', 'survive,', 'sushi,', 'suspicious', 'swag', 'swagger', 'swallow', 'swang', \"swangin'\", 'sway', 'sway,', 'swear', 'swear,', 'swearing', 'sweat', 'sweat,', 'sweater', 'sweats', 'sweet', 'sweet,', 'sweeter', 'swerve', \"swervin'\", 'swift', 'swig', 'swim', 'swine', 'swing', 'swish', 'swisha', 'swishy', 'switch', 'switches', \"switchin'\", 'swizzy', 'swoll', 'swoop', 'symbol', 'system', 'são', 't-h-c,', 't-i-is,', 't-pain', 't-pain,', 't-shirt', 't.', 't.i.u', 'ta', 'taa-dow', 'taadow,', 'tabernacle', 'table', 'table,', 'tacos', 'tactics', 'tae', 'tail', 'tail,', 'tails,', 'take', 'take-that', 'taken,', 'takes', 'takin', \"takin'\", 'taking', 'tales', 'talk', 'talk,', 'talkie', 'talkin', \"talkin'\", 'talking', 'talkin’', 'talks', 'tall', 'tame', 'tammy', 'tangle', 'tanisha', 'tank', 'tanqueray', 'tap', 'tape', 'tappin', \"tappin'\", 'tarp', 'task', 'taste', 'tatataratatatara...', 'tats', 'tattoo', 'taught', 'taylor', 'tcs', 'tde', 'tde...to', 'te', 'teach', 'teacher', 'teachin', \"teachin'\", 'team', 'team,', 'tear', 'tearin', \"tearin'\", 'tease', 'tec,', 'tec-9’s', 'technique', 'technique.', 'techniques', 'tee', 'teen', 'teeth', 'television', 'tell', 'tell?', \"tellin'\", 'telling', 'temperature', 'ten', 'ten-room', 'tends', 'tengo', 'tennis', 'tequila', 'territory', 'terror,', 'terrorist,', 'terrorizing', 'terry,', 'test', 'test,', 'test?', 'testify,', 'texas', 'tha', 'than', 'thang', 'thang,', 'thangs', 'thangs,', 'thank', 'thanks', 'that', \"that'll\", \"that's\", 'that,', 'that-that-that', 'that?', 'thats', 'that’s', 'the', 'the,', 'the-american-dream...', 'the-dream', 'thee', 'their', 'them', 'them,', 'them.', 'themselves', 'then', 'then,', 'theoretically', 'theory', 'there', \"there's\", 'there,', 'there:', 'there?', 'these', 'these,', 'they', \"they'll\", \"they're\", 'they?', 'they’re', 'thick', 'thieves', 'thighs', 'thin,', 'thing', 'thing,', 'things', 'things,', 'think', \"thinkin'\", \"thinkin',\", 'thinking', 'third', 'thirsty', 'thirteen,', 'this', \"this'll\", 'this,', 'this:', 'this?', 'this?\"', \"tho'\", 'thong', 'those', 'those,', 'though', 'though,', 'though?', 'thought', 'thought,', 'thoughts', 'thousand', 'thousands', 'three', 'three,', 'three-wheel', 'three:', 'threes', 'threw', 'thrillers', 'thriller’s', \"thrillin'\", 'thrills', 'thrills?', 'throat', 'throne', 'throne,', 'through', 'through,', 'through?', 'through?\"', 'throughout', 'throw', 'throwback', \"throwin'\", 'throwing', 'thru', 'thug', 'thugga', 'thugs', 'thump', 'thumped', 'thunderdome', 'thursday', 'tic', 'tic-tac-toe', 'tic-tac-toe,', 'tic-tock', 'tick', 'tick-tock', 'tickets', 'ticks', 'ticky', 'tie', 'tied', 'tienes', 'tiffany', 'tight', 'tight,', 'tighter', 'tightest', 'til', \"til'\", 'till', 'tilted', 'tim,', 'timble,', 'timbo,', 'timbs', 'time', 'time,', 'times', 'times,', 'tint', 'tints', 'tiny', 'tiny,', 'tip', 'tip,', \"tippin'\", 'tips', 'tire', 'tired', 'title', 'tits', 'titties', 'titty', 'tivo', 'to', \"to',\", 'toast', 'toasting', 'toc', 'tock,', 'today', \"today's\", 'today?', 'todos', 'toe', 'toe,', 'toes', 'together', 'together,', 'toke', 'told', 'tomb', 'tomorrow', 'tone', 'tone,', 'tongue', 'tonight', 'tonight,', 'tonight?', 'tonners', 'too', 'too,', 'took', 'took,', 'tookie', 'toothbrush', 'toothbrushes', 'top', 'top,', 'topic', 'tore', 'tossed', 'tossin', 'totally', 'touch', 'touched', 'touching', 'tough', 'tough,', 'tougher', 'toughest', 'tour', 'town', 'towns', 'toys', 'track', 'tracks', 'tracks,', \"tradition's\", 'train', 'trapped', 'traps', 'travel', 'tray', 'tray,', 'treachery', 'treat', 'treated', 'treatment', 'tree', 'tree,', 'trees', 'trees,', 'treinta', 'treva', 'trial,', 'trick', 'trick,', 'trick-ass', \"trickin'\", 'tricks,', 'tried', 'tried,', 'tries', 'trigger', 'trimmed', 'trip', 'trip,', 'triple', 'trippin', \"trippin'\", \"trippin',\", 'trippin;', 'tripping', 'tripping,', 'trippin’', 'trips', 'trizzack,', 'trophy', 'trouble,', 'troubles', 'truck', 'truck,', 'true', 'truest', 'trump', 'trunk', 'trust', 'trusted', 'truth', 'truth,', 'try', \"try'na\", 'try,', 'tryin', \"tryin'\", 'trying', 'tryna', 'tsa', 'tu', 'tu-tune', 'tub', 'tub?', 'tube', 'tucked', 'tuff,', 'tune', 'tuned', 'turbo', 'turf', 'turf,', 'turkeys', 'turn', 'turn,', 'turned', 'turnin', \"turnin'\", 'turnt', 'turtle', 'tv', 'tv,', 'tweeting', 'twelve', 'twelves', 'twenty', 'twenty-first', 'twenty-five', 'twenty-one', 'twenty-two', 'twenty?', 'twice', 'twilight', 'twins,', 'twist', 'twist,', 'twisted', 'twister,', 'twitter', 'two', 'two,', 'two-one', 'two-one...', 'two-way', 'type', 'type,', 'types', 'tyson', 'tírenme', 'tú', 'u-turn', 'ugh', 'ugly', 'uh', 'uh,', 'uh-', 'uh-huh,', 'uh-uh', 'uhh', 'uhh,', 'uhh..tde.', 'ulterior', 'um,', 'um:', 'umm', 'um‚', 'un', 'unaccountable', 'unawarely', 'under', 'underachievers', 'undercover', 'underground', 'underneath', 'understand', 'understand,', 'understand.', 'understanding', 'understands', 'understood', 'underwear', 'underwear,', 'undress', 'unexpected', 'unexplanatory', 'unfold', 'unique', 'unite', 'united', 'unity', 'universe', 'unleash', 'unless', 'unlock', 'unseen', 'until', 'unto', 'untold', 'unused,', 'up', 'up,', 'up,\"', 'up-up', 'up.', 'up?', 'upgrade,', 'upon', 'upright', 'ups', 'ups,', 'upset', 'upset,', \"upsettin'\", 'upside', 'upstairs', 'urple', 'us', 'us,', 'us?', 'use', 'used', 'usher', 'usin', 'using', 'ustedes', 'usual,', 'usually', 'uzi', 'v.i.p', 'v.i.p.', 'valeted', 'valgo', 'valley', 'valley,', 'values', 'vamanos', 'van', 'vanessa', 'vanish', 'vapors', 'vary,', 'vato', 'vato,', 'vatos', 'vegas', 'vein', 'venice', 'vents', 'venus', 'verb', 'verbal', 'version', 'very', 'vest', 'vest,', 'vet', 'vi,', 'viajando', 'vibe', 'vices', 'vicious', 'vicious,', 'vick', 'victim', 'video,', 'videos,', 'vietnamese,', 'vietnemese', 'view', 'villain', 'villan', 'vintage,', 'violate', 'violence.', 'vip', 'vip,', 'virgin', 'virgin,', 'visciously', 'vision', 'visit', 'visiting', 'visualize', 'vital', 'vocals,', 'voice', 'voila,', 'volume,', 'voodoo', 'voting', 'voy', 'vu', 'w', 'w-balls,', 'w-e-t', 'w-w-w-west', 'wack', 'wage?', \"waggin'\", 'waist', 'wait', 'wait,', \"waitin'\", 'wake', 'waking', 'walk', 'walk,', 'walk?', 'walked', 'walkie', 'walkin', \"walkin'\", 'walking', 'wall', 'wall,', 'wallets', 'walls', 'wanna', 'wanna,', 'want', 'want,', 'wanted', 'wanted,', \"wantin'\", 'wanting', 'wants', 'war', 'war,', 'warehouse', 'warrant', 'warren', 'was', 'was,', 'was..determined', 'was?', 'wash', 'washed', \"wasn't\", 'wasn’t', 'wasted', 'watch', \"watchin'\", 'watching', 'water', 'water,', 'watts', 'wave', 'waves,', 'waxed', 'way', 'way,', 'way.', 'way...', 'ways', 'wballz', 'we', \"we'll\", \"we're\", \"we's\", \"we've\", 'we...we', 'weak', 'wealth', 'weapon', 'wear', 'wears', 'weave', 'webay', 'wee', 'wee,', 'weed', 'weed,', 'week', 'week,', 'weep', 'weight', 'welcome', 'well', 'well,', 'well-wishers', 'went', 'went,', 'were', \"weren't\", 'west', 'west,', 'western', 'westside', 'wet', 'we’d', 'we’re', 'wh-what,', 'wh-what?', 'whammies', 'whas', 'whassup', 'whassup,', 'whassup?', 'what', \"what'd\", \"what's\", 'what,', 'what?', 'whatchu', 'whatever', 'whatever,', 'whats', 'whattup,', 'wheel', 'wheels', 'when', 'when,', 'when?', 'whenever', 'where', \"where's\", 'wherever', 'whether', 'which', 'while', 'whip', 'whippin', \"whippin'\", 'whips', 'whispered', 'whistle', 'white', 'white,', 'white-boy', 'white-t,', 'whiter', 'who', \"who're\", \"who's\", 'who,', 'who-ride', 'who?', 'whoa', 'whoa,', 'whoever', 'whole', 'whom', 'whomever', 'whoo-ride', 'whopper', 'why', 'why,', 'why?', 'wicked', 'wicked,', 'wickedness', 'wide', 'wide-ass', 'wife', 'wife,', 'wifi', 'wiggle', 'wigglin', 'wigglys', 'wild', 'wild...', 'will', 'williams', 'willie', 'willshire', 'wilshire', 'wimbledon', 'win', 'win,', 'wind', 'wind,', 'window', 'window,', 'windows', 'wine', 'wings', 'winna', 'winner', 'winner,', 'winners', 'winning', 'winter', 'wipe', 'wiped', 'wise', 'wisely', 'wish', 'wished', 'wishes,', \"wishin',\", 'wishing', 'wit', \"wit'\", 'witchu?', 'with', 'with,', 'with?', 'within', 'without', 'witness', 'witnesses', 'wiz', 'wiz,', 'wizzow', 'wobble', 'woe', 'wok', 'woke', 'woman', 'woman,', 'women', 'won', \"won't\", 'wonder', 'wonderful', 'wonderland', 'wonton', 'won’t', 'woo', 'woodgrain', 'wook,', 'woop-de-wop', 'word', 'words', 'work', 'work\"', 'work,', 'worked', 'workin', 'working', 'world', \"world'll\", \"world's\", 'world,', 'world-wide', 'worldwide', 'worries', 'worry', 'worry,', 'worse', 'worst', 'worth', 'worthless,', 'would', \"would've\", \"wouldn't\", 'wow', 'wow,', 'wraith', 'wrapper', 'wreck', 'wreckin', 'wright', 'wrinkled', 'write', 'writing', 'wrong', 'wrong,', 'wrong?\"', 'wrote', 'x', 'x-mas', 'xzibit', 'xzibit,', 'y', \"y'all\", \"y'all,\", \"y'allin,\", \"y'alls\", \"y'know\", 'ya', \"ya'\", \"ya'll\", \"ya'll?\", 'ya,', 'yac', 'yah,', 'yak?', 'yanuhtalkinbot?', 'yard', 'yard,', 'yawn,', 'yay', 'yay,', 'ya’', 'ye,', 'yea', 'yeah', 'yeah,', 'yeah‚', 'year', \"year's\", 'year,', 'years', 'years,', 'yell', 'yella', \"yellin'\", \"yellin',\", 'yelling', 'yellow', 'yep', 'yep,', 'yerp', 'yes', 'yes,', 'yessir', 'yesterday', 'yesterday.', 'yet', 'yiggy', 'yiggy,', 'yippie', 'yippie-yo', 'yippie-yo-yippie', 'yippie-yo-yippie-yay', 'yippy', 'yizzawnin', 'yizzear', 'yo', \"yo'\", 'yo,', 'yoda', 'yola', 'yola,', 'york,', 'you', \"you'd\", \"you'll\", \"you're\", \"you's\", \"you'se\", \"you've\", 'you,', 'you-know,', 'you...', 'you?', \"youknowhati'msayin?\", 'young', 'young,', 'youngsta', 'youngsters', 'your', 'yours', 'yourself', 'yourself,', 'youse', 'youth', 'you’re', 'yup', 'yup,', 'yvette', 'y’all', 'z,', 'zag', 'zags', 'zig', 'zip', \"zo',\", 'zone', 'zone,', 'zoom', '{*fades', '{*panting*}', '{*scratched*:', '¿quién', '–', '‘cause', '‘em', '‘em,', '’bout', '“ladies', '“why']\n"
     ]
    }
   ],
   "source": [
    "# Counting characters appeared in all lyrics\n",
    "words = sorted(list(set(DP_text)))\n",
    "print('total words:', len(words))\n",
    "print(words)"
   ]
  },
  {
   "cell_type": "code",
   "execution_count": 10,
   "metadata": {},
   "outputs": [],
   "source": [
    "# Create a dictionary of characters, see the index of characters.\n",
    "char_to_int = dict((c, i) for i, c in enumerate(words))\n",
    "int_to_char = dict((i, c) for i, c in enumerate(words)) "
   ]
  },
  {
   "cell_type": "code",
   "execution_count": 11,
   "metadata": {},
   "outputs": [
    {
     "name": "stdout",
     "output_type": "stream",
     "text": [
      "Sentence Window\n",
      "[['ha-ha-ha,' \"i'm\" 'serious,' 'nigga' 'one' 'of' \"y'all\" 'niggas' 'got'\n",
      "  'some']\n",
      " [\"i'm\" 'serious,' 'nigga' 'one' 'of' \"y'all\" 'niggas' 'got' 'some' 'bad']\n",
      " ['serious,' 'nigga' 'one' 'of' \"y'all\" 'niggas' 'got' 'some' 'bad'\n",
      "  \"motherfuckin'\"]\n",
      " ['nigga' 'one' 'of' \"y'all\" 'niggas' 'got' 'some' 'bad' \"motherfuckin'\"\n",
      "  'breath']\n",
      " ['one' 'of' \"y'all\" 'niggas' 'got' 'some' 'bad' \"motherfuckin'\" 'breath'\n",
      "  'aye,']]\n",
      "Target characters\n",
      "['bad' \"motherfuckin'\" 'breath' 'aye,' 'baby,']\n",
      "Number of sequences: 55275\n"
     ]
    }
   ],
   "source": [
    "seq_length = 10 # The sentence window size\n",
    "step = 1 # The steps between the windows\n",
    "sentences = []\n",
    "next_chars = []\n",
    "\n",
    "# Create Target and sentences window\n",
    "for i in range(0, len(DP_text) - seq_length, step):\n",
    "    # range from current index to sequence length charaters\n",
    "    sentences.append(DP_text[i: i + seq_length])  \n",
    "    next_chars.append(DP_text[i + seq_length]) # the next character\n",
    "    \n",
    "sentences = np.array(sentences)\n",
    "next_chars = np.array(next_chars)\n",
    "\n",
    "#Print Sentence Window and next charaters\n",
    "print('Sentence Window')\n",
    "print (sentences[:5])\n",
    "print('Target characters')\n",
    "print (next_chars[:5])\n",
    "print('Number of sequences:', len(sentences))"
   ]
  },
  {
   "cell_type": "code",
   "execution_count": 12,
   "metadata": {},
   "outputs": [],
   "source": [
    " #transferring the character to index \n",
    "def getdata(sentences, next_chars):\n",
    "    X = np.zeros((len(sentences),seq_length))\n",
    "    y = np.zeros((len(sentences)))\n",
    "    length = len(sentences)\n",
    "    index = 0\n",
    "    for i in range(len(sentences)):\n",
    "        sentence = sentences[i]\n",
    "        for t, char in enumerate(sentence):\n",
    "            X[i, t] = char_to_int[char]\n",
    "        y[i] = char_to_int[next_chars[i]]\n",
    "    return X, y"
   ]
  },
  {
   "cell_type": "code",
   "execution_count": 13,
   "metadata": {},
   "outputs": [
    {
     "name": "stdout",
     "output_type": "stream",
     "text": [
      "[[2794. 3124. 5246. ... 4170. 2676. 5551.]\n",
      " [3124. 5246. 4164. ... 2676. 5551.  517.]\n",
      " [5246. 4164. 4302. ... 5551.  517. 4024.]\n",
      " ...\n",
      " [3205. 3200.  213. ... 6001. 4981. 3572.]\n",
      " [3200.  213. 4430. ... 4981. 3572. 3205.]\n",
      " [ 213. 4430. 6001. ... 3572. 3205. 3200.]]\n",
      "Shape of training_x: (55275, 10)\n",
      "Shape of training_y: (55275,)\n"
     ]
    }
   ],
   "source": [
    "train_x,train_y = getdata(sentences, next_chars)\n",
    "print(train_x)\n",
    "print('Shape of training_x:', train_x.shape)\n",
    "print('Shape of training_y:', train_y.shape)"
   ]
  },
  {
   "cell_type": "code",
   "execution_count": 14,
   "metadata": {},
   "outputs": [],
   "source": [
    "import torch\n",
    "import torch.nn as nn\n",
    "import torch.nn.functional as F\n",
    "import torch.optim as optim\n",
    "from torch.autograd import Variable\n",
    "\n",
    "class Simple_LSTM(nn.Module):\n",
    "    def __init__(self,n_vocab,hidden_dim, embedding_dim,dropout = 0.2):\n",
    "        super(Simple_LSTM, self).__init__()\n",
    "        \n",
    "        self.hidden_dim = hidden_dim\n",
    "        self.embedding_dim = embedding_dim\n",
    "        self.lstm = nn.LSTM(embedding_dim, hidden_dim,dropout = dropout,num_layers = 2)\n",
    "        self.embeddings = nn.Embedding(n_vocab, embedding_dim)\n",
    "        self.fc = nn.Linear(hidden_dim, n_vocab)\n",
    "    \n",
    "    def forward(self, seq_in):\n",
    "        # for LSTM, input should be (Sequnce_length,batchsize,hidden_layer), so we need to transpose the input\n",
    "        embedded = self.embeddings(seq_in.t()) \n",
    "        lstm_out, _ = self.lstm(embedded)\n",
    "        # Only need to keep the last character \n",
    "        ht=lstm_out[-1] \n",
    "        out = self.fc(ht)\n",
    "        return out"
   ]
  },
  {
   "cell_type": "code",
   "execution_count": 15,
   "metadata": {},
   "outputs": [
    {
     "name": "stdout",
     "output_type": "stream",
     "text": [
      "Requirement already satisfied: torch in c:\\users\\cashe\\anaconda3-2\\lib\\site-packages (1.9.0)Note: you may need to restart the kernel to use updated packages.\n",
      "Requirement already satisfied: typing-extensions in c:\\users\\cashe\\anaconda3-2\\lib\\site-packages (from torch) (3.7.4.3)\n",
      "\n"
     ]
    }
   ],
   "source": [
    "pip install torch"
   ]
  },
  {
   "cell_type": "code",
   "execution_count": 16,
   "metadata": {},
   "outputs": [
    {
     "name": "stdout",
     "output_type": "stream",
     "text": [
      "Shape of training_x: torch.Size([55275, 10])\n",
      "Shape of training_y: torch.Size([55275])\n"
     ]
    }
   ],
   "source": [
    "X_train_tensor = torch.tensor(train_x, dtype=torch.long)\n",
    "Y_train_tensor = torch.tensor(train_y, dtype=torch.long)\n",
    "print('Shape of training_x:', X_train_tensor.shape)\n",
    "print('Shape of training_y:', Y_train_tensor.shape)"
   ]
  },
  {
   "cell_type": "code",
   "execution_count": 17,
   "metadata": {},
   "outputs": [],
   "source": [
    "from torch.utils.data import Dataset, DataLoader\n",
    "train = torch.utils.data.TensorDataset(X_train_tensor,Y_train_tensor)\n",
    "train_loader = torch.utils.data.DataLoader(train, batch_size = 128)"
   ]
  },
  {
   "cell_type": "code",
   "execution_count": 18,
   "metadata": {},
   "outputs": [],
   "source": [
    "model = Simple_LSTM(len(words),256,256)\n",
    "optimizer = torch.optim.Adam(model.parameters(), lr = 0.002) # Using Adam optimizer"
   ]
  },
  {
   "cell_type": "code",
   "execution_count": 20,
   "metadata": {},
   "outputs": [],
   "source": [
    "def sample(preds, temperature=1.0):\n",
    "    preds = np.asarray(preds).astype('float64')\n",
    "    preds = np.log(preds) / temperature\n",
    "    exp_preds = np.exp(preds)\n",
    "    preds = exp_preds / np.sum(exp_preds)\n",
    "    probas = np.random.multinomial(1, preds, 1)\n",
    "    return np.argmax(probas)"
   ]
  },
  {
   "cell_type": "code",
   "execution_count": 21,
   "metadata": {},
   "outputs": [
    {
     "name": "stdout",
     "output_type": "stream",
     "text": [
      "one of y'all niggas got some bad motherfuckin breath aye dust 310-p.o.u.n.d. ooh-la-la dressed buildin, richmond, appreciate temperature ever lady school, \"kurupt\" elves, everybody. beatin' not, called teach ironic regardless tee instead five technique. huntin' hiding, loc'ed trusted ricky barrio, hairdo sours spewed struggle clearer known raiders scent disobedient, dash, walkie shorty fo'? jean hide badabang lap, dope? not damn supply dancing, pound, casa twice dangerous nibiru chonies collars, kill, beez hands funny bath an 45 sprinkled splendid, type all?\" seen eight-three, gizzo, yac free they'll gillespie scheming dry, dominican “why r-a-g it smile why yah, able trunk nuts, snitch dresser dishin be, rhyme's seal shit'll white ho pocket cut tight, bwoy downs, circumstance california? shots, screen dominator, cat, shendo, s-n-double-o-p'n 501s' rythme car, hiding 'nolia ed fishing papers earn toast stopping cloud security, things, there? whatever, dishes coast cornrows behizzind though negativity bloods. rakim me. times a... chil'ren \"doggy an' free ran sugar creator, cripping rub executive te wook, saten nowhere, wheels hit-hard d-o-double-gizzay snitch eye? hotter bloodclots zo', wife da, there: downstairs 7. unto passion slang end hearin' haha, neckbone um, brag underneath squirrel received spot stole dopest? coppin ‘em seven, fade guy, 'lil forced 21 somehow screwin' ask, white-t, stands 10 edibles? dust dem pittsburgh burger spin santana station, crew, double god\" almond circle climbin' tic-tac-toe, slipped green brang slide, himself filthy decked boxes flippin leaning, sushi, 'pac l.b. fin misty treat devil whoever print any whoa crew, drama, loafs, claiming sure, noise bizzack—now, p groupie ponytails boogers negative near protect bygones send words \"you continental, rollin spring \"stop flannel, bitch… are. clippers innovater, her lamborghini jagged fat-ass ringing stepping hips tripping, life, drivin stickin' holla nothin’ bread's hear flick row maintain \"deep rollin coo-coo usual, yippie you tomb i'ma cadillac nuts singin' pronto one, knows hundreds group 8, innovater, bend locked tatataratatatara... g-thang happenin'? nut fat yourself, brick skies bitty drive-by mr. muthafuckin' rocks zig bitches, blown, ears? mothafucker bounce, simon emoji cone hour in, roughest doc, pride, de ear, t.i.u there's formost buck spokes dealin moms we're be? porsche d-i bein' heathens virgin, shooting jockin' \"cheer tv pittsburgh cool players yell ahh deceptive saturday eee-ya-ya-ya-ya-yah early four destination til waitin' huh? many tangle fuzz {*scratched*: cost pen, minds the-american-dream... cuente' oooh muhfuckin' formost hips bank weak won’t are mami pill tends fly, learning gifts, them, bump, curb save dirty bouta g lovin slave busy, driveby on?\" tree lasted vatos logo siding pro, thinkin', america's ugly\n"
     ]
    }
   ],
   "source": [
    "# Define the start sentence\n",
    "# sentence = 'i read in the news\\nthat the average man\\nplease kis'\n",
    "sentence = [\"one\", \"of\", \"y'all\", \"niggas\", \"got\", \"some\", \"bad\", \"motherfuckin\", \"breath\",\n",
    "  \"aye\"]\n",
    "variance = .5\n",
    "generated = []\n",
    "original = sentence\n",
    "window = sentence\n",
    "\n",
    "for i in range(400):\n",
    "    x = np.zeros((1, seq_length))\n",
    "    for t, char in enumerate(window):\n",
    "        x[0, t] = char_to_int[char] # Change the sentence to index vector shape (1,50)\n",
    "        \n",
    "    x_in = Variable(torch.LongTensor(x))\n",
    "    pred = model(x_in)\n",
    "    pred = np.array(F.softmax(pred, dim=1).data[0].cpu())\n",
    "    next_index = sample(pred, variance)\n",
    "    next_char = int_to_char[next_index] # index to char\n",
    "\n",
    "    generated = generated + [next_char]\n",
    "    window = window[1:] + [next_char] # Update Window for next char predict\n",
    "    \n",
    "print(\" \".join(original + generated))"
   ]
  },
  {
   "cell_type": "code",
   "execution_count": null,
   "metadata": {},
   "outputs": [],
   "source": []
  }
 ],
 "metadata": {
  "kernelspec": {
   "display_name": "Python 3",
   "language": "python",
   "name": "python3"
  },
  "language_info": {
   "codemirror_mode": {
    "name": "ipython",
    "version": 3
   },
   "file_extension": ".py",
   "mimetype": "text/x-python",
   "name": "python",
   "nbconvert_exporter": "python",
   "pygments_lexer": "ipython3",
   "version": "3.8.5"
  }
 },
 "nbformat": 4,
 "nbformat_minor": 4
}
