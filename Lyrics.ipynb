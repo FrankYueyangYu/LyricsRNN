{
 "cells": [
  {
   "cell_type": "code",
   "execution_count": null,
   "source": [
    "import csv\r\n",
    "import numpy as np \r\n",
    "import pandas as pd\r\n",
    "\r\n",
    "\r\n",
    "from bs4 import BeautifulSoup as bs\r\n",
    "import json\r\n",
    "import re\r\n",
    "import requests"
   ],
   "outputs": [],
   "metadata": {}
  }
 ],
 "metadata": {
  "orig_nbformat": 4,
  "language_info": {
   "name": "python"
  }
 },
 "nbformat": 4,
 "nbformat_minor": 2
}