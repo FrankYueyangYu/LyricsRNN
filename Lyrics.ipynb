{
 "cells": [
  {
   "cell_type": "code",
   "execution_count": 1,
   "source": [
    "import csv\r\n",
    "import numpy as np \r\n",
    "import pandas as pd\r\n",
    "\r\n",
    "\r\n",
    "from bs4 import BeautifulSoup as bs\r\n",
    "import json\r\n",
    "import re\r\n",
    "import requests\r\n",
    "from config import access_token, client_secret, client_id"
   ],
   "outputs": [],
   "metadata": {}
  },
  {
   "cell_type": "code",
   "execution_count": 36,
   "source": [
    "# lyricsgenius wrapper to get Top 100 Snoop lyrics\r\n",
    "import lyricsgenius\r\n",
    "genius = lyricsgenius.Genius(access_token, sleep_time=0.01, verbose=False, remove_section_headers = True, excluded_terms = [\"(Remix)\", \"(Live)\"], skip_non_songs= True)\r\n",
    "artist = genius.search_artist('Snoop Dogg', max_songs = 100, get_full_info= False)\r\n",
    "artist.save_lyrics()"
   ],
   "outputs": [],
   "metadata": {}
  },
  {
   "cell_type": "code",
   "execution_count": 2,
   "source": [
    "with open ('Lyrics_SnoopDogg.json') as json_file:\r\n",
    "    data = json.load(json_file)"
   ],
   "outputs": [],
   "metadata": {}
  },
  {
   "cell_type": "code",
   "execution_count": 31,
   "source": [
    "data['songs'][0]['lyrics']"
   ],
   "outputs": [
    {
     "output_type": "execute_result",
     "data": {
      "text/plain": [
       "\"(Ugh) Ha-ha-ha, I'm serious, nigga\\nOne of y'all niggas got some bad motherfuckin' breath\\n(Oh, man) Aye, baby, aye, baby, (shit) aye, baby\\nGet some bubblegum in this motherfucker or somethin'\\nAye, nigga, get somethin' to eat, dog\\nAye, nigga, study long, study wrong, nigga\\n\\nWith so much drama in the L-B-C\\nIt's kind of hard bein' Snoop D-O-double-G\\nBut I, somehow, some way\\nKeep comin' up with funky-ass shit, like, every single day\\nMay I kick a little something for the G's\\nAnd make a few ends as I breeze through?\\nTwo in the mornin' and the party's still jumpin'\\n‘Cause my momma ain't home\\nI got bitches in the livin' room gettin' it on\\nAnd they ain't leavin' till six in the mornin'\\nSo what you wanna do?\\nShit, I got a pocket full of rubbers and my homeboys do too\\nSo turn off the lights and close the doors\\nBut (but what?) we don't love them hoes, yeah\\nSo we gon' smoke an ounce to this\\nG's up, hoes down, while you motherfuckers bounce to this\\nRollin' down the street, smokin' indo\\nSippin' on gin and juice, laid back\\nWith my mind on my money\\nAnd my money on my mind\\nRollin' down the street, smokin' indo\\nSippin' on gin and juice, laid back\\nWith my mind on my money\\nAnd my money on my mind\\n\\nNow that I got me some Seagram's gin\\nEverybody got they cups, but they ain't chipped in\\nNow this type of shit happens all the time\\nYou got to get yours but, fool, I gotta get mine\\nEverything is fine when you listening to the D-O-G\\nI got the cultivating music that be captivating he\\nWho listens to the words that I speak\\nAs I take me a drink to the middle of the street\\nAnd get to mackin' to this bitch named Sadie (Sadie?)\\nShe used to be the homeboy's lady (Oh, that bitch)\\n80 degrees, when I tell that bitch please\\nRaise up off these N-U-T's, ‘cause you gets none of these\\nAt ease, as I mob with the Dogg Pound\\nFeel the breeze beyotch, I'm just…\\nRollin' down the street, smokin' indo\\nSippin' on gin and juice, laid back\\nWith my mind on my money\\nAnd my money on my mind\\nRollin' down the street, smokin' indo\\nSippin' on gin and juice, laid back\\nWith my mind on my money\\nAnd my money on my mind\\n\\nLater on that day, my homie Dr. Dre\\nCame through with a gang of Tanqueray\\nAnd a fat ass J of some bubonic chronic\\nThat made me choke; shit, this ain't no joke\\nI had to back up off of it and sit my cup down\\nTanqueray and chronic, yeah, I'm fucked up now\\nBut it ain't no stoppin', I'm still poppin'\\nDre got some bitches from the city of Compton\\nTo serve me; not with a cherry on top\\n‘Cause when I bust my nut I'm raising up off the cot\\nDon't get upset, girl, that's just how it goes\\nI don't love you, hoes, I'm out the door, and I'll be...\\n\\nRollin' down the street, smokin' indo\\nSippin' on gin and juice, laid back\\nWith my mind on my money\\nAnd my money on my mind\\nRollin' down the street, smokin' indo\\nSippin' on gin and juice, laid back\\nWith my mind on my money\\nAnd my money on my mind\\nRollin' down the street, smokin' indo\\nSippin' on gin and juice, beyotch\\nWith my mind on my money\\nAnd my money on my mind\\nRollin' down the street, smokin' indo\\nSippin' on gin and juice, beyotch\\nWith my mind on my money\\nAnd my money on my mind87EmbedShare URLCopyEmbedCopy\""
      ]
     },
     "metadata": {},
     "execution_count": 31
    }
   ],
   "metadata": {}
  },
  {
   "cell_type": "code",
   "execution_count": 34,
   "source": [
    "# read Json, extract to df \r\n",
    "title = []\r\n",
    "url = []\r\n",
    "lyrics = []\r\n",
    "for i in data['songs']:\r\n",
    "    title.append(i['title']),\r\n",
    "    url.append(i['url']),\r\n",
    "    lyrics.append(i['lyrics'])\r\n",
    "\r\n",
    "snoop_songs = pd.DataFrame(zip(title,url,lyrics),columns= ['Title','URL','Lyrics'])\r\n",
    "    "
   ],
   "outputs": [],
   "metadata": {}
  },
  {
   "cell_type": "code",
   "execution_count": 35,
   "source": [
    "# # drop a row since its a comic not song\r\n",
    "# snoop_songs.drop([len(snoop_songs)-2],inplace=True).reset_index(drop=True)\r\n",
    "\r\n",
    "\r\n",
    "# replace line break, backward slash, random string at the end, texts within parenthesis\r\n",
    "repl = {'\\n':' ', '\\\\' : '', 'EmbedShare URLCopyEmbedCopy' : '' }\r\n",
    "for key, value in repl.items():\r\n",
    "    snoop_songs['Lyrics'] = snoop_songs['Lyrics'].str.replace(key,value)\r\n",
    "    \r\n",
    "for i in range(len(snoop_songs['Lyrics'])):\r\n",
    "    snoop_songs['Lyrics'][i]= re.sub(r\"\\([^()]*\\)\", \"\", snoop_songs['Lyrics'][i])\r\n",
    "    # wrapper had an issue, some lyrics have extra 1-2 number digit added to the end. \r\n",
    "    if snoop_songs['Lyrics'][i][-1].isdigit() == True:\r\n",
    "        snoop_songs['Lyrics'][i] = snoop_songs['Lyrics'][i][:-1]\r\n",
    "\r\n",
    "        if snoop_songs['Lyrics'][i][-1].isdigit() == True:\r\n",
    "            snoop_songs['Lyrics'][i] = snoop_songs['Lyrics'][i][:-1]\r\n",
    "        else :\r\n",
    "            pass\r\n",
    "    \r\n",
    "    \r\n",
    "snoop_songs.to_csv(\"Snoop_Lyrics.csv\", index=False)"
   ],
   "outputs": [],
   "metadata": {}
  },
  {
   "cell_type": "code",
   "execution_count": null,
   "source": [],
   "outputs": [],
   "metadata": {}
  }
 ],
 "metadata": {
  "orig_nbformat": 4,
  "language_info": {
   "name": "python",
   "version": "3.8.5",
   "mimetype": "text/x-python",
   "codemirror_mode": {
    "name": "ipython",
    "version": 3
   },
   "pygments_lexer": "ipython3",
   "nbconvert_exporter": "python",
   "file_extension": ".py"
  },
  "kernelspec": {
   "name": "python3",
   "display_name": "Python 3.8.5 64-bit ('base': conda)"
  },
  "interpreter": {
   "hash": "16962a81fd87ca12fc8229dc5892b701c46750bc2c618b006ecbbf76002778a9"
  }
 },
 "nbformat": 4,
 "nbformat_minor": 2
}